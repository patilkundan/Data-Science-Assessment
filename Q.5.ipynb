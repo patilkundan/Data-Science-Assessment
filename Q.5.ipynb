{
 "cells": [
  {
   "cell_type": "markdown",
   "id": "4986a6b3",
   "metadata": {},
   "source": [
    "<font face = \"Verdana\" size = \"4\">  Name : Kundan Patil <br>\n",
    "    Email id: patilkundan.1718@gmail.com <br>\n",
    "    contact: +91 8485010139 <br>\n",
    "    linkedIn: www.linkedin.com/in/kundanpatilds<br>\n",
    "    Github: https://github.com/patilkundan?tab=repositories"
   ]
  },
  {
   "cell_type": "markdown",
   "id": "1ac9b061",
   "metadata": {},
   "source": [
    "<font face = \"Verdana\" size = \"5\"> <h1>Q.5 Write Python Programming for given Dataset “mtcars.csv” file</h1>\n",
    "<font face = \"Verdana\" size = \"3\"> Expected Output:\n",
    "<br> 1. Need to use required libraries<br>\n",
    "\t\t         2. Apply different Data Pre- Processing Techniques using Pandas, NumPy\n",
    "\t\t         <br>3. Store data in list\n",
    "\n"
   ]
  },
  {
   "cell_type": "markdown",
   "id": "9664faf7",
   "metadata": {},
   "source": [
    "# 1 Importing required libraries "
   ]
  },
  {
   "cell_type": "code",
   "execution_count": 27,
   "id": "fb826cde",
   "metadata": {},
   "outputs": [],
   "source": [
    "#Let's start with importing required libraries \n",
    "import sklearn\n",
    "import pandas as pd\n",
    "import numpy as np\n",
    "import matplotlib.pyplot as plt\n",
    "import seaborn as sns\n",
    "import warnings\n",
    "warnings.filterwarnings('ignore')\n",
    "from sklearn.preprocessing import StandardScaler"
   ]
  },
  {
   "cell_type": "code",
   "execution_count": 3,
   "id": "9462e29d",
   "metadata": {},
   "outputs": [
    {
     "data": {
      "text/html": [
       "<div>\n",
       "<style scoped>\n",
       "    .dataframe tbody tr th:only-of-type {\n",
       "        vertical-align: middle;\n",
       "    }\n",
       "\n",
       "    .dataframe tbody tr th {\n",
       "        vertical-align: top;\n",
       "    }\n",
       "\n",
       "    .dataframe thead th {\n",
       "        text-align: right;\n",
       "    }\n",
       "</style>\n",
       "<table border=\"1\" class=\"dataframe\">\n",
       "  <thead>\n",
       "    <tr style=\"text-align: right;\">\n",
       "      <th></th>\n",
       "      <th>name</th>\n",
       "      <th>mpg</th>\n",
       "      <th>cyl</th>\n",
       "      <th>disp</th>\n",
       "      <th>hp</th>\n",
       "      <th>drat</th>\n",
       "      <th>wt</th>\n",
       "      <th>qsec</th>\n",
       "      <th>vs</th>\n",
       "      <th>am</th>\n",
       "      <th>gear</th>\n",
       "      <th>carb</th>\n",
       "    </tr>\n",
       "  </thead>\n",
       "  <tbody>\n",
       "    <tr>\n",
       "      <th>0</th>\n",
       "      <td>Mazda RX4</td>\n",
       "      <td>21.0</td>\n",
       "      <td>6</td>\n",
       "      <td>160.0</td>\n",
       "      <td>110</td>\n",
       "      <td>3.90</td>\n",
       "      <td>2.620</td>\n",
       "      <td>16.46</td>\n",
       "      <td>0</td>\n",
       "      <td>1</td>\n",
       "      <td>4</td>\n",
       "      <td>4</td>\n",
       "    </tr>\n",
       "    <tr>\n",
       "      <th>1</th>\n",
       "      <td>Mazda RX4 Wag</td>\n",
       "      <td>21.0</td>\n",
       "      <td>6</td>\n",
       "      <td>160.0</td>\n",
       "      <td>110</td>\n",
       "      <td>3.90</td>\n",
       "      <td>2.875</td>\n",
       "      <td>17.02</td>\n",
       "      <td>0</td>\n",
       "      <td>1</td>\n",
       "      <td>4</td>\n",
       "      <td>4</td>\n",
       "    </tr>\n",
       "    <tr>\n",
       "      <th>2</th>\n",
       "      <td>Datsun 710</td>\n",
       "      <td>22.8</td>\n",
       "      <td>4</td>\n",
       "      <td>108.0</td>\n",
       "      <td>93</td>\n",
       "      <td>3.85</td>\n",
       "      <td>2.320</td>\n",
       "      <td>18.61</td>\n",
       "      <td>1</td>\n",
       "      <td>1</td>\n",
       "      <td>4</td>\n",
       "      <td>1</td>\n",
       "    </tr>\n",
       "    <tr>\n",
       "      <th>3</th>\n",
       "      <td>Hornet 4 Drive</td>\n",
       "      <td>21.4</td>\n",
       "      <td>6</td>\n",
       "      <td>258.0</td>\n",
       "      <td>110</td>\n",
       "      <td>3.08</td>\n",
       "      <td>3.215</td>\n",
       "      <td>19.44</td>\n",
       "      <td>1</td>\n",
       "      <td>0</td>\n",
       "      <td>3</td>\n",
       "      <td>1</td>\n",
       "    </tr>\n",
       "    <tr>\n",
       "      <th>4</th>\n",
       "      <td>Hornet Sportabout</td>\n",
       "      <td>18.7</td>\n",
       "      <td>8</td>\n",
       "      <td>360.0</td>\n",
       "      <td>175</td>\n",
       "      <td>3.15</td>\n",
       "      <td>3.440</td>\n",
       "      <td>17.02</td>\n",
       "      <td>0</td>\n",
       "      <td>0</td>\n",
       "      <td>3</td>\n",
       "      <td>2</td>\n",
       "    </tr>\n",
       "  </tbody>\n",
       "</table>\n",
       "</div>"
      ],
      "text/plain": [
       "                name   mpg  cyl   disp   hp  drat     wt   qsec  vs  am  gear  \\\n",
       "0          Mazda RX4  21.0    6  160.0  110  3.90  2.620  16.46   0   1     4   \n",
       "1      Mazda RX4 Wag  21.0    6  160.0  110  3.90  2.875  17.02   0   1     4   \n",
       "2         Datsun 710  22.8    4  108.0   93  3.85  2.320  18.61   1   1     4   \n",
       "3     Hornet 4 Drive  21.4    6  258.0  110  3.08  3.215  19.44   1   0     3   \n",
       "4  Hornet Sportabout  18.7    8  360.0  175  3.15  3.440  17.02   0   0     3   \n",
       "\n",
       "   carb  \n",
       "0     4  \n",
       "1     4  \n",
       "2     1  \n",
       "3     1  \n",
       "4     2  "
      ]
     },
     "execution_count": 3,
     "metadata": {},
     "output_type": "execute_result"
    }
   ],
   "source": [
    "df = pd. read_csv (\"mtcars.csv\") # Reading the Data\n",
    "df.head()"
   ]
  },
  {
   "cell_type": "markdown",
   "id": "0e373ba8",
   "metadata": {},
   "source": [
    "### 1. First and the most important thing is to check the shape of data ...... How Big is our dataset"
   ]
  },
  {
   "cell_type": "code",
   "execution_count": 4,
   "id": "7bc8751d",
   "metadata": {},
   "outputs": [
    {
     "data": {
      "text/plain": [
       "(32, 12)"
      ]
     },
     "execution_count": 4,
     "metadata": {},
     "output_type": "execute_result"
    }
   ],
   "source": [
    "df.shape "
   ]
  },
  {
   "cell_type": "markdown",
   "id": "d2485f99",
   "metadata": {},
   "source": [
    "####  The given data set is small  "
   ]
  },
  {
   "cell_type": "markdown",
   "id": "89991c7c",
   "metadata": {},
   "source": [
    "### 2. Lets check the data types ....what are data types present in our dataset"
   ]
  },
  {
   "cell_type": "code",
   "execution_count": 5,
   "id": "98cbd036",
   "metadata": {},
   "outputs": [
    {
     "data": {
      "text/plain": [
       "name     object\n",
       "mpg     float64\n",
       "cyl       int64\n",
       "disp    float64\n",
       "hp        int64\n",
       "drat    float64\n",
       "wt      float64\n",
       "qsec    float64\n",
       "vs        int64\n",
       "am        int64\n",
       "gear      int64\n",
       "carb      int64\n",
       "dtype: object"
      ]
     },
     "execution_count": 5,
     "metadata": {},
     "output_type": "execute_result"
    }
   ],
   "source": [
    "df.dtypes # df.info() also this way can be done "
   ]
  },
  {
   "cell_type": "code",
   "execution_count": 6,
   "id": "8db46606",
   "metadata": {},
   "outputs": [
    {
     "data": {
      "text/plain": [
       "Index(['name', 'mpg', 'cyl', 'disp', 'hp', 'drat', 'wt', 'qsec', 'vs', 'am',\n",
       "       'gear', 'carb'],\n",
       "      dtype='object')"
      ]
     },
     "execution_count": 6,
     "metadata": {},
     "output_type": "execute_result"
    }
   ],
   "source": [
    "df.columns"
   ]
  },
  {
   "cell_type": "markdown",
   "id": "3d2f82d1",
   "metadata": {},
   "source": [
    "### 3. Lets Check null values in data set"
   ]
  },
  {
   "cell_type": "code",
   "execution_count": 7,
   "id": "2a3b0980",
   "metadata": {},
   "outputs": [
    {
     "data": {
      "text/plain": [
       "name    0\n",
       "mpg     0\n",
       "cyl     0\n",
       "disp    0\n",
       "hp      0\n",
       "drat    0\n",
       "wt      0\n",
       "qsec    0\n",
       "vs      0\n",
       "am      0\n",
       "gear    0\n",
       "carb    0\n",
       "dtype: int64"
      ]
     },
     "execution_count": 7,
     "metadata": {},
     "output_type": "execute_result"
    }
   ],
   "source": [
    "df.isnull().sum()"
   ]
  },
  {
   "cell_type": "markdown",
   "id": "1c924b27",
   "metadata": {},
   "source": [
    "### on the above evidence we can make statement, there is no null present in our data set "
   ]
  },
  {
   "cell_type": "markdown",
   "id": "85b77a0a",
   "metadata": {},
   "source": [
    "# 4. Checking   the duplicate....just to make sure that  "
   ]
  },
  {
   "cell_type": "code",
   "execution_count": 8,
   "id": "503a9c9b",
   "metadata": {},
   "outputs": [
    {
     "name": "stdout",
     "output_type": "stream",
     "text": [
      "Duplicate Rows :\n"
     ]
    }
   ],
   "source": [
    "duplicate = df[df.duplicated()]\n",
    "print(\"Duplicate Rows :\")"
   ]
  },
  {
   "cell_type": "markdown",
   "id": "07790998",
   "metadata": {},
   "source": [
    "### Great no duplicate found we can move to next "
   ]
  },
  {
   "cell_type": "markdown",
   "id": "64be575e",
   "metadata": {},
   "source": [
    "## 5.  Exploratory Data Analysis\n"
   ]
  },
  {
   "cell_type": "markdown",
   "id": "9d74638b",
   "metadata": {},
   "source": [
    "# 1. name"
   ]
  },
  {
   "cell_type": "code",
   "execution_count": 10,
   "id": "29e02f28",
   "metadata": {},
   "outputs": [
    {
     "data": {
      "text/plain": [
       "count            32\n",
       "unique           32\n",
       "top       Mazda RX4\n",
       "freq              1\n",
       "Name: name, dtype: object"
      ]
     },
     "execution_count": 10,
     "metadata": {},
     "output_type": "execute_result"
    }
   ],
   "source": [
    "df['name'].describe()"
   ]
  },
  {
   "cell_type": "code",
   "execution_count": 18,
   "id": "7157f56f",
   "metadata": {},
   "outputs": [
    {
     "name": "stdout",
     "output_type": "stream",
     "text": [
      "unique categories---> ['Mazda RX4' 'Mazda RX4 Wag' 'Datsun 710' 'Hornet 4 Drive'\n",
      " 'Hornet Sportabout' 'Valiant' 'Duster 360' 'Merc 240D' 'Merc 230'\n",
      " 'Merc 280' 'Merc 280C' 'Merc 450SE' 'Merc 450SL' 'Merc 450SLC'\n",
      " 'Cadillac Fleetwood' 'Lincoln Continental' 'Chrysler Imperial' 'Fiat 128'\n",
      " 'Honda Civic' 'Toyota Corolla' 'Toyota Corona' 'Dodge Challenger'\n",
      " 'AMC Javelin' 'Camaro Z28' 'Pontiac Firebird' 'Fiat X1-9' 'Porsche 914-2'\n",
      " 'Lotus Europa' 'Ford Pantera L' 'Ferrari Dino' 'Maserati Bora'\n",
      " 'Volvo 142E']\n",
      "value_counts for each unique categories----> Mazda RX4              1\n",
      "Mazda RX4 Wag          1\n",
      "Maserati Bora          1\n",
      "Ferrari Dino           1\n",
      "Ford Pantera L         1\n",
      "Lotus Europa           1\n",
      "Porsche 914-2          1\n",
      "Fiat X1-9              1\n",
      "Pontiac Firebird       1\n",
      "Camaro Z28             1\n",
      "AMC Javelin            1\n",
      "Dodge Challenger       1\n",
      "Toyota Corona          1\n",
      "Toyota Corolla         1\n",
      "Honda Civic            1\n",
      "Fiat 128               1\n",
      "Chrysler Imperial      1\n",
      "Lincoln Continental    1\n",
      "Cadillac Fleetwood     1\n",
      "Merc 450SLC            1\n",
      "Merc 450SL             1\n",
      "Merc 450SE             1\n",
      "Merc 280C              1\n",
      "Merc 280               1\n",
      "Merc 230               1\n",
      "Merc 240D              1\n",
      "Duster 360             1\n",
      "Valiant                1\n",
      "Hornet Sportabout      1\n",
      "Hornet 4 Drive         1\n",
      "Datsun 710             1\n",
      "Volvo 142E             1\n",
      "Name: name, dtype: int64\n",
      "Null value---> 0\n"
     ]
    }
   ],
   "source": [
    "print('unique categories--->',df['name'].unique())\n",
    "#counting the uniques\n",
    "print('value_counts for each unique categories---->',df['name'].value_counts())\n",
    "print('Null value--->',df['name'].isnull().sum())"
   ]
  },
  {
   "cell_type": "code",
   "execution_count": 22,
   "id": "d65ffbf1",
   "metadata": {},
   "outputs": [
    {
     "data": {
      "text/plain": [
       "<AxesSubplot:>"
      ]
     },
     "execution_count": 22,
     "metadata": {},
     "output_type": "execute_result"
    },
    {
     "data": {
      "image/png": "[encoded data removed]",
      "text/plain": [
       "<Figure size 720x216 with 1 Axes>"
      ]
     },
     "metadata": {
      "needs_background": "light"
     },
     "output_type": "display_data"
    }
   ],
   "source": [
    "df['name'].value_counts().plot(kind='bar',figsize=(10, 3))"
   ]
  },
  {
   "cell_type": "markdown",
   "id": "92909898",
   "metadata": {},
   "source": [
    "Basically for continoues coloumn  we check \n",
    "- box plot\n",
    "- distribution plot\n",
    "- histogram ..many more also ...\n"
   ]
  },
  {
   "cell_type": "markdown",
   "id": "c872eea2",
   "metadata": {},
   "source": [
    "# 2. mpg"
   ]
  },
  {
   "cell_type": "code",
   "execution_count": 23,
   "id": "d5d00d82",
   "metadata": {},
   "outputs": [
    {
     "data": {
      "text/plain": [
       "count    32.000000\n",
       "mean     20.090625\n",
       "std       6.026948\n",
       "min      10.400000\n",
       "25%      15.425000\n",
       "50%      19.200000\n",
       "75%      22.800000\n",
       "max      33.900000\n",
       "Name: mpg, dtype: float64"
      ]
     },
     "execution_count": 23,
     "metadata": {},
     "output_type": "execute_result"
    }
   ],
   "source": [
    "df['mpg'].describe()"
   ]
  },
  {
   "cell_type": "code",
   "execution_count": 29,
   "id": "99a73a45",
   "metadata": {},
   "outputs": [
    {
     "data": {
      "text/plain": [
       "0.6723771376290805"
      ]
     },
     "execution_count": 29,
     "metadata": {},
     "output_type": "execute_result"
    }
   ],
   "source": [
    "df['mpg'].skew() "
   ]
  },
  {
   "cell_type": "code",
   "execution_count": 28,
   "id": "3a5c737c",
   "metadata": {},
   "outputs": [
    {
     "data": {
      "text/plain": [
       "<AxesSubplot:xlabel='mpg', ylabel='Density'>"
      ]
     },
     "execution_count": 28,
     "metadata": {},
     "output_type": "execute_result"
    },
    {
     "data": {
      "image/png": "[encoded data removed]",
      "text/plain": [
       "<Figure size 432x288 with 1 Axes>"
      ]
     },
     "metadata": {
      "needs_background": "light"
     },
     "output_type": "display_data"
    }
   ],
   "source": [
    "sns.distplot(df['mpg'])"
   ]
  },
  {
   "cell_type": "code",
   "execution_count": 30,
   "id": "becdfd81",
   "metadata": {},
   "outputs": [
    {
     "data": {
      "text/plain": [
       "<AxesSubplot:xlabel='mpg'>"
      ]
     },
     "execution_count": 30,
     "metadata": {},
     "output_type": "execute_result"
    },
    {
     "data": {
      "image/png": "[encoded data removed]",
      "text/plain": [
       "<Figure size 432x288 with 1 Axes>"
      ]
     },
     "metadata": {
      "needs_background": "light"
     },
     "output_type": "display_data"
    }
   ],
   "source": [
    "sns.boxplot(df['mpg'])"
   ]
  },
  {
   "cell_type": "code",
   "execution_count": 31,
   "id": "567a86f5",
   "metadata": {},
   "outputs": [
    {
     "data": {
      "image/png": "[encoded data removed]",
      "text/plain": [
       "<Figure size 432x288 with 1 Axes>"
      ]
     },
     "metadata": {
      "needs_background": "light"
     },
     "output_type": "display_data"
    }
   ],
   "source": [
    "plt.hist(df['mpg'])\n",
    "plt.show() "
   ]
  },
  {
   "cell_type": "markdown",
   "id": "0a8d5268",
   "metadata": {},
   "source": [
    "# 3. cyl"
   ]
  },
  {
   "cell_type": "code",
   "execution_count": 32,
   "id": "ac4bbcfc",
   "metadata": {},
   "outputs": [
    {
     "data": {
      "text/plain": [
       "count    32.000000\n",
       "mean      6.187500\n",
       "std       1.785922\n",
       "min       4.000000\n",
       "25%       4.000000\n",
       "50%       6.000000\n",
       "75%       8.000000\n",
       "max       8.000000\n",
       "Name: cyl, dtype: float64"
      ]
     },
     "execution_count": 32,
     "metadata": {},
     "output_type": "execute_result"
    }
   ],
   "source": [
    "df['cyl'].describe()"
   ]
  },
  {
   "cell_type": "code",
   "execution_count": 33,
   "id": "557b995c",
   "metadata": {},
   "outputs": [
    {
     "data": {
      "text/plain": [
       "-0.19226086006934684"
      ]
     },
     "execution_count": 33,
     "metadata": {},
     "output_type": "execute_result"
    }
   ],
   "source": [
    "df['cyl'].skew() "
   ]
  },
  {
   "cell_type": "code",
   "execution_count": 34,
   "id": "d8cfd218",
   "metadata": {},
   "outputs": [
    {
     "data": {
      "text/plain": [
       "<AxesSubplot:xlabel='cyl'>"
      ]
     },
     "execution_count": 34,
     "metadata": {},
     "output_type": "execute_result"
    },
    {
     "data": {
      "image/png": "[encoded data removed]",
      "text/plain": [
       "<Figure size 432x288 with 1 Axes>"
      ]
     },
     "metadata": {
      "needs_background": "light"
     },
     "output_type": "display_data"
    }
   ],
   "source": [
    "sns.boxplot(df['cyl'])"
   ]
  },
  {
   "cell_type": "code",
   "execution_count": 35,
   "id": "a0f32b52",
   "metadata": {},
   "outputs": [
    {
     "name": "stdout",
     "output_type": "stream",
     "text": [
      "unique categories---> [6 4 8]\n",
      "value_counts for each unique categories----> 8    14\n",
      "4    11\n",
      "6     7\n",
      "Name: cyl, dtype: int64\n",
      "Null value---> 0\n"
     ]
    }
   ],
   "source": [
    "print('unique categories--->',df['cyl'].unique())\n",
    "#counting the uniques\n",
    "print('value_counts for each unique categories---->',df['cyl'].value_counts())\n",
    "print('Null value--->',df['cyl'].isnull().sum())"
   ]
  },
  {
   "cell_type": "code",
   "execution_count": 37,
   "id": "c123b12a",
   "metadata": {},
   "outputs": [
    {
     "data": {
      "text/plain": [
       "<AxesSubplot:>"
      ]
     },
     "execution_count": 37,
     "metadata": {},
     "output_type": "execute_result"
    },
    {
     "data": {
      "image/png": "[encoded data removed]",
      "text/plain": [
       "<Figure size 720x216 with 1 Axes>"
      ]
     },
     "metadata": {
      "needs_background": "light"
     },
     "output_type": "display_data"
    }
   ],
   "source": [
    "df['cyl'].value_counts().plot(kind='bar',figsize=(10, 3))"
   ]
  },
  {
   "cell_type": "code",
   "execution_count": 38,
   "id": "c4ad11e8",
   "metadata": {},
   "outputs": [
    {
     "data": {
      "text/plain": [
       "<AxesSubplot:xlabel='cyl', ylabel='Density'>"
      ]
     },
     "execution_count": 38,
     "metadata": {},
     "output_type": "execute_result"
    },
    {
     "data": {
      "image/png": "[encoded data removed]",
      "text/plain": [
       "<Figure size 432x288 with 1 Axes>"
      ]
     },
     "metadata": {
      "needs_background": "light"
     },
     "output_type": "display_data"
    }
   ],
   "source": [
    "sns.distplot(df['cyl'])"
   ]
  },
  {
   "cell_type": "markdown",
   "id": "22bedc53",
   "metadata": {},
   "source": [
    "## 4. disp"
   ]
  },
  {
   "cell_type": "code",
   "execution_count": 39,
   "id": "3038c789",
   "metadata": {},
   "outputs": [
    {
     "data": {
      "text/plain": [
       "count     32.000000\n",
       "mean     230.721875\n",
       "std      123.938694\n",
       "min       71.100000\n",
       "25%      120.825000\n",
       "50%      196.300000\n",
       "75%      326.000000\n",
       "max      472.000000\n",
       "Name: disp, dtype: float64"
      ]
     },
     "execution_count": 39,
     "metadata": {},
     "output_type": "execute_result"
    }
   ],
   "source": [
    "df['disp'].describe()"
   ]
  },
  {
   "cell_type": "code",
   "execution_count": 41,
   "id": "f609b441",
   "metadata": {},
   "outputs": [
    {
     "data": {
      "text/plain": [
       "0.42023312147004516"
      ]
     },
     "execution_count": 41,
     "metadata": {},
     "output_type": "execute_result"
    }
   ],
   "source": [
    "df['disp'].skew() "
   ]
  },
  {
   "cell_type": "code",
   "execution_count": 42,
   "id": "56349e78",
   "metadata": {},
   "outputs": [
    {
     "data": {
      "text/plain": [
       "<AxesSubplot:xlabel='disp', ylabel='Density'>"
      ]
     },
     "execution_count": 42,
     "metadata": {},
     "output_type": "execute_result"
    },
    {
     "data": {
      "image/png": "[encoded data removed]",
      "text/plain": [
       "<Figure size 432x288 with 1 Axes>"
      ]
     },
     "metadata": {
      "needs_background": "light"
     },
     "output_type": "display_data"
    }
   ],
   "source": [
    "sns.distplot(df['disp'])"
   ]
  },
  {
   "cell_type": "code",
   "execution_count": 43,
   "id": "2c8687fd",
   "metadata": {},
   "outputs": [
    {
     "data": {
      "text/plain": [
       "<AxesSubplot:xlabel='disp'>"
      ]
     },
     "execution_count": 43,
     "metadata": {},
     "output_type": "execute_result"
    },
    {
     "data": {
      "image/png": "[encoded data removed]",
      "text/plain": [
       "<Figure size 432x288 with 1 Axes>"
      ]
     },
     "metadata": {
      "needs_background": "light"
     },
     "output_type": "display_data"
    }
   ],
   "source": [
    "sns.boxplot(df['disp'])"
   ]
  },
  {
   "cell_type": "markdown",
   "id": "5f348bac",
   "metadata": {},
   "source": [
    "# 5.hp"
   ]
  },
  {
   "cell_type": "code",
   "execution_count": 44,
   "id": "9faed877",
   "metadata": {},
   "outputs": [
    {
     "data": {
      "text/plain": [
       "count     32.000000\n",
       "mean     146.687500\n",
       "std       68.562868\n",
       "min       52.000000\n",
       "25%       96.500000\n",
       "50%      123.000000\n",
       "75%      180.000000\n",
       "max      335.000000\n",
       "Name: hp, dtype: float64"
      ]
     },
     "execution_count": 44,
     "metadata": {},
     "output_type": "execute_result"
    }
   ],
   "source": [
    "df['hp'].describe()"
   ]
  },
  {
   "cell_type": "code",
   "execution_count": 45,
   "id": "b81b86d6",
   "metadata": {},
   "outputs": [
    {
     "data": {
      "text/plain": [
       "0.7994066925956381"
      ]
     },
     "execution_count": 45,
     "metadata": {},
     "output_type": "execute_result"
    }
   ],
   "source": [
    "df['hp'].skew()"
   ]
  },
  {
   "cell_type": "code",
   "execution_count": 46,
   "id": "2cb5da57",
   "metadata": {},
   "outputs": [
    {
     "data": {
      "text/plain": [
       "<AxesSubplot:xlabel='hp', ylabel='Density'>"
      ]
     },
     "execution_count": 46,
     "metadata": {},
     "output_type": "execute_result"
    },
    {
     "data": {
      "image/png": "[encoded data removed]",
      "text/plain": [
       "<Figure size 432x288 with 1 Axes>"
      ]
     },
     "metadata": {
      "needs_background": "light"
     },
     "output_type": "display_data"
    }
   ],
   "source": [
    "sns.distplot(df['hp'])"
   ]
  },
  {
   "cell_type": "code",
   "execution_count": 47,
   "id": "9d91a4f6",
   "metadata": {},
   "outputs": [
    {
     "data": {
      "text/plain": [
       "<AxesSubplot:xlabel='hp'>"
      ]
     },
     "execution_count": 47,
     "metadata": {},
     "output_type": "execute_result"
    },
    {
     "data": {
      "image/png": "[encoded data removed]",
      "text/plain": [
       "<Figure size 432x288 with 1 Axes>"
      ]
     },
     "metadata": {
      "needs_background": "light"
     },
     "output_type": "display_data"
    }
   ],
   "source": [
    "sns.boxplot(df['hp'])"
   ]
  },
  {
   "cell_type": "code",
   "execution_count": 48,
   "id": "e841fea3",
   "metadata": {},
   "outputs": [
    {
     "name": "stdout",
     "output_type": "stream",
     "text": [
      "unique categories---> [110  93 175 105 245  62  95 123 180 205 215 230  66  52  65  97 150  91\n",
      " 113 264 335 109]\n",
      "value_counts for each unique categories----> 110    3\n",
      "175    3\n",
      "180    3\n",
      "245    2\n",
      "123    2\n",
      "150    2\n",
      "66     2\n",
      "65     1\n",
      "335    1\n",
      "264    1\n",
      "113    1\n",
      "91     1\n",
      "97     1\n",
      "230    1\n",
      "52     1\n",
      "93     1\n",
      "215    1\n",
      "205    1\n",
      "95     1\n",
      "62     1\n",
      "105    1\n",
      "109    1\n",
      "Name: hp, dtype: int64\n",
      "Null value---> 0\n"
     ]
    }
   ],
   "source": [
    "print('unique categories--->',df['hp'].unique())\n",
    "#counting the uniques\n",
    "print('value_counts for each unique categories---->',df['hp'].value_counts())\n",
    "print('Null value--->',df['hp'].isnull().sum())"
   ]
  },
  {
   "cell_type": "markdown",
   "id": "86c39140",
   "metadata": {},
   "source": [
    "# 6. drat"
   ]
  },
  {
   "cell_type": "code",
   "execution_count": 49,
   "id": "803709bc",
   "metadata": {},
   "outputs": [
    {
     "data": {
      "text/plain": [
       "count    32.000000\n",
       "mean      3.596563\n",
       "std       0.534679\n",
       "min       2.760000\n",
       "25%       3.080000\n",
       "50%       3.695000\n",
       "75%       3.920000\n",
       "max       4.930000\n",
       "Name: drat, dtype: float64"
      ]
     },
     "execution_count": 49,
     "metadata": {},
     "output_type": "execute_result"
    }
   ],
   "source": [
    "df['drat'].describe()"
   ]
  },
  {
   "cell_type": "code",
   "execution_count": 50,
   "id": "ab030a4b",
   "metadata": {},
   "outputs": [
    {
     "data": {
      "text/plain": [
       "0.29278021324083486"
      ]
     },
     "execution_count": 50,
     "metadata": {},
     "output_type": "execute_result"
    }
   ],
   "source": [
    "df['drat'].skew()"
   ]
  },
  {
   "cell_type": "code",
   "execution_count": 51,
   "id": "d6960928",
   "metadata": {},
   "outputs": [
    {
     "data": {
      "text/plain": [
       "<AxesSubplot:xlabel='drat', ylabel='Density'>"
      ]
     },
     "execution_count": 51,
     "metadata": {},
     "output_type": "execute_result"
    },
    {
     "data": {
      "image/png": "[encoded data removed]",
      "text/plain": [
       "<Figure size 432x288 with 1 Axes>"
      ]
     },
     "metadata": {
      "needs_background": "light"
     },
     "output_type": "display_data"
    }
   ],
   "source": [
    "sns.distplot(df['drat'])"
   ]
  },
  {
   "cell_type": "code",
   "execution_count": 52,
   "id": "26cd3645",
   "metadata": {},
   "outputs": [
    {
     "data": {
      "text/plain": [
       "<AxesSubplot:xlabel='drat'>"
      ]
     },
     "execution_count": 52,
     "metadata": {},
     "output_type": "execute_result"
    },
    {
     "data": {
      "image/png": "[encoded data removed]",
      "text/plain": [
       "<Figure size 432x288 with 1 Axes>"
      ]
     },
     "metadata": {
      "needs_background": "light"
     },
     "output_type": "display_data"
    }
   ],
   "source": [
    "sns.boxplot(df['drat'])"
   ]
  },
  {
   "cell_type": "markdown",
   "id": "b96e4978",
   "metadata": {},
   "source": [
    "## 7. wt"
   ]
  },
  {
   "cell_type": "code",
   "execution_count": 53,
   "id": "69e0e071",
   "metadata": {},
   "outputs": [
    {
     "data": {
      "text/plain": [
       "count    32.000000\n",
       "mean      3.217250\n",
       "std       0.978457\n",
       "min       1.513000\n",
       "25%       2.581250\n",
       "50%       3.325000\n",
       "75%       3.610000\n",
       "max       5.424000\n",
       "Name: wt, dtype: float64"
      ]
     },
     "execution_count": 53,
     "metadata": {},
     "output_type": "execute_result"
    }
   ],
   "source": [
    "df['wt'].describe()"
   ]
  },
  {
   "cell_type": "code",
   "execution_count": 54,
   "id": "a7df5545",
   "metadata": {},
   "outputs": [
    {
     "data": {
      "text/plain": [
       "0.4659161067929858"
      ]
     },
     "execution_count": 54,
     "metadata": {},
     "output_type": "execute_result"
    }
   ],
   "source": [
    "df['wt'].skew()"
   ]
  },
  {
   "cell_type": "code",
   "execution_count": 55,
   "id": "b9a3e562",
   "metadata": {},
   "outputs": [
    {
     "data": {
      "text/plain": [
       "<AxesSubplot:xlabel='wt', ylabel='Density'>"
      ]
     },
     "execution_count": 55,
     "metadata": {},
     "output_type": "execute_result"
    },
    {
     "data": {
      "image/png": "[encoded data removed]",
      "text/plain": [
       "<Figure size 432x288 with 1 Axes>"
      ]
     },
     "metadata": {
      "needs_background": "light"
     },
     "output_type": "display_data"
    }
   ],
   "source": [
    "sns.distplot(df['wt'])"
   ]
  },
  {
   "cell_type": "code",
   "execution_count": 56,
   "id": "9251d47f",
   "metadata": {},
   "outputs": [
    {
     "data": {
      "text/plain": [
       "<AxesSubplot:xlabel='wt'>"
      ]
     },
     "execution_count": 56,
     "metadata": {},
     "output_type": "execute_result"
    },
    {
     "data": {
      "image/png": "[encoded data removed]",
      "text/plain": [
       "<Figure size 432x288 with 1 Axes>"
      ]
     },
     "metadata": {
      "needs_background": "light"
     },
     "output_type": "display_data"
    }
   ],
   "source": [
    "sns.boxplot(df['wt'])"
   ]
  },
  {
   "cell_type": "markdown",
   "id": "10197188",
   "metadata": {},
   "source": [
    "# 8. qsec"
   ]
  },
  {
   "cell_type": "code",
   "execution_count": 57,
   "id": "5dd0c1ae",
   "metadata": {},
   "outputs": [
    {
     "data": {
      "text/plain": [
       "count    32.000000\n",
       "mean     17.848750\n",
       "std       1.786943\n",
       "min      14.500000\n",
       "25%      16.892500\n",
       "50%      17.710000\n",
       "75%      18.900000\n",
       "max      22.900000\n",
       "Name: qsec, dtype: float64"
      ]
     },
     "execution_count": 57,
     "metadata": {},
     "output_type": "execute_result"
    }
   ],
   "source": [
    "df['qsec'].describe()"
   ]
  },
  {
   "cell_type": "code",
   "execution_count": 59,
   "id": "14750050",
   "metadata": {},
   "outputs": [
    {
     "data": {
      "text/plain": [
       "0.4063466292404903"
      ]
     },
     "execution_count": 59,
     "metadata": {},
     "output_type": "execute_result"
    }
   ],
   "source": [
    "df['qsec'].skew()"
   ]
  },
  {
   "cell_type": "code",
   "execution_count": 60,
   "id": "8d1e9803",
   "metadata": {},
   "outputs": [
    {
     "data": {
      "text/plain": [
       "<AxesSubplot:xlabel='qsec', ylabel='Density'>"
      ]
     },
     "execution_count": 60,
     "metadata": {},
     "output_type": "execute_result"
    },
    {
     "data": {
      "image/png": "[encoded data removed]",
      "text/plain": [
       "<Figure size 432x288 with 1 Axes>"
      ]
     },
     "metadata": {
      "needs_background": "light"
     },
     "output_type": "display_data"
    }
   ],
   "source": [
    "sns.distplot(df['qsec'])"
   ]
  },
  {
   "cell_type": "code",
   "execution_count": 61,
   "id": "eaead520",
   "metadata": {},
   "outputs": [
    {
     "data": {
      "text/plain": [
       "<AxesSubplot:xlabel='qsec'>"
      ]
     },
     "execution_count": 61,
     "metadata": {},
     "output_type": "execute_result"
    },
    {
     "data": {
      "image/png": "[encoded data removed]",
      "text/plain": [
       "<Figure size 432x288 with 1 Axes>"
      ]
     },
     "metadata": {
      "needs_background": "light"
     },
     "output_type": "display_data"
    }
   ],
   "source": [
    "sns.boxplot(df['qsec'])"
   ]
  },
  {
   "cell_type": "markdown",
   "id": "794ff761",
   "metadata": {},
   "source": [
    "## 9. vs"
   ]
  },
  {
   "cell_type": "code",
   "execution_count": 62,
   "id": "12c64682",
   "metadata": {},
   "outputs": [
    {
     "data": {
      "text/plain": [
       "count    32.000000\n",
       "mean      0.437500\n",
       "std       0.504016\n",
       "min       0.000000\n",
       "25%       0.000000\n",
       "50%       0.000000\n",
       "75%       1.000000\n",
       "max       1.000000\n",
       "Name: vs, dtype: float64"
      ]
     },
     "execution_count": 62,
     "metadata": {},
     "output_type": "execute_result"
    }
   ],
   "source": [
    "df['vs'].describe()"
   ]
  },
  {
   "cell_type": "code",
   "execution_count": 63,
   "id": "cb10c736",
   "metadata": {},
   "outputs": [
    {
     "data": {
      "text/plain": [
       "0.2645417988063449"
      ]
     },
     "execution_count": 63,
     "metadata": {},
     "output_type": "execute_result"
    }
   ],
   "source": [
    "df['vs'].skew()"
   ]
  },
  {
   "cell_type": "code",
   "execution_count": 64,
   "id": "d05f99ea",
   "metadata": {},
   "outputs": [
    {
     "data": {
      "text/plain": [
       "<AxesSubplot:xlabel='vs', ylabel='Density'>"
      ]
     },
     "execution_count": 64,
     "metadata": {},
     "output_type": "execute_result"
    },
    {
     "data": {
      "image/png": "[encoded data removed]",
      "text/plain": [
       "<Figure size 432x288 with 1 Axes>"
      ]
     },
     "metadata": {
      "needs_background": "light"
     },
     "output_type": "display_data"
    }
   ],
   "source": [
    "sns.distplot(df['vs'])"
   ]
  },
  {
   "cell_type": "code",
   "execution_count": 65,
   "id": "fcac8fa5",
   "metadata": {},
   "outputs": [
    {
     "data": {
      "text/plain": [
       "<AxesSubplot:xlabel='vs'>"
      ]
     },
     "execution_count": 65,
     "metadata": {},
     "output_type": "execute_result"
    },
    {
     "data": {
      "image/png": "[encoded data removed]",
      "text/plain": [
       "<Figure size 432x288 with 1 Axes>"
      ]
     },
     "metadata": {
      "needs_background": "light"
     },
     "output_type": "display_data"
    }
   ],
   "source": [
    "sns.boxplot(df['vs'])"
   ]
  },
  {
   "cell_type": "code",
   "execution_count": 67,
   "id": "f6eaaf01",
   "metadata": {},
   "outputs": [
    {
     "name": "stdout",
     "output_type": "stream",
     "text": [
      "unique categories---> [0 1]\n",
      "value_counts for each unique categories----> 0    18\n",
      "1    14\n",
      "Name: vs, dtype: int64\n",
      "Null value---> 0\n"
     ]
    }
   ],
   "source": [
    "print('unique categories--->',df['vs'].unique())\n",
    "#counting the uniques\n",
    "print('value_counts for each unique categories---->',df['vs'].value_counts())\n",
    "print('Null value--->',df['vs'].isnull().sum())"
   ]
  },
  {
   "cell_type": "code",
   "execution_count": 68,
   "id": "83e9c046",
   "metadata": {},
   "outputs": [
    {
     "data": {
      "text/plain": [
       "<AxesSubplot:>"
      ]
     },
     "execution_count": 68,
     "metadata": {},
     "output_type": "execute_result"
    },
    {
     "data": {
      "image/png": "[encoded data removed]",
      "text/plain": [
       "<Figure size 720x216 with 1 Axes>"
      ]
     },
     "metadata": {
      "needs_background": "light"
     },
     "output_type": "display_data"
    }
   ],
   "source": [
    "df['vs'].value_counts().plot(kind='bar',figsize=(10, 3))"
   ]
  },
  {
   "cell_type": "markdown",
   "id": "22800057",
   "metadata": {},
   "source": [
    "## 10. am"
   ]
  },
  {
   "cell_type": "code",
   "execution_count": 69,
   "id": "f14947fb",
   "metadata": {},
   "outputs": [
    {
     "data": {
      "text/plain": [
       "count    32.000000\n",
       "mean      0.406250\n",
       "std       0.498991\n",
       "min       0.000000\n",
       "25%       0.000000\n",
       "50%       0.000000\n",
       "75%       1.000000\n",
       "max       1.000000\n",
       "Name: am, dtype: float64"
      ]
     },
     "execution_count": 69,
     "metadata": {},
     "output_type": "execute_result"
    }
   ],
   "source": [
    "df['am'].describe()"
   ]
  },
  {
   "cell_type": "code",
   "execution_count": 70,
   "id": "53e1b93b",
   "metadata": {},
   "outputs": [
    {
     "data": {
      "text/plain": [
       "0.40080889870280095"
      ]
     },
     "execution_count": 70,
     "metadata": {},
     "output_type": "execute_result"
    }
   ],
   "source": [
    "df['am'].skew()"
   ]
  },
  {
   "cell_type": "code",
   "execution_count": 71,
   "id": "f22f2fbb",
   "metadata": {},
   "outputs": [
    {
     "data": {
      "text/plain": [
       "<AxesSubplot:xlabel='am', ylabel='Density'>"
      ]
     },
     "execution_count": 71,
     "metadata": {},
     "output_type": "execute_result"
    },
    {
     "data": {
      "image/png": "[encoded data removed]",
      "text/plain": [
       "<Figure size 432x288 with 1 Axes>"
      ]
     },
     "metadata": {
      "needs_background": "light"
     },
     "output_type": "display_data"
    }
   ],
   "source": [
    "sns.distplot(df['am'])"
   ]
  },
  {
   "cell_type": "code",
   "execution_count": 72,
   "id": "fc6b0e8d",
   "metadata": {},
   "outputs": [
    {
     "data": {
      "text/plain": [
       "<AxesSubplot:xlabel='am'>"
      ]
     },
     "execution_count": 72,
     "metadata": {},
     "output_type": "execute_result"
    },
    {
     "data": {
      "image/png": "[encoded data removed]",
      "text/plain": [
       "<Figure size 432x288 with 1 Axes>"
      ]
     },
     "metadata": {
      "needs_background": "light"
     },
     "output_type": "display_data"
    }
   ],
   "source": [
    "sns.boxplot(df['am'])"
   ]
  },
  {
   "cell_type": "code",
   "execution_count": 73,
   "id": "fabab4c4",
   "metadata": {},
   "outputs": [
    {
     "name": "stdout",
     "output_type": "stream",
     "text": [
      "unique categories---> [1 0]\n",
      "value_counts for each unique categories----> 0    19\n",
      "1    13\n",
      "Name: am, dtype: int64\n",
      "Null value---> 0\n"
     ]
    }
   ],
   "source": [
    "print('unique categories--->',df['am'].unique())\n",
    "#counting the uniques\n",
    "print('value_counts for each unique categories---->',df['am'].value_counts())\n",
    "print('Null value--->',df['am'].isnull().sum())"
   ]
  },
  {
   "cell_type": "code",
   "execution_count": 74,
   "id": "1c4b968b",
   "metadata": {},
   "outputs": [
    {
     "data": {
      "text/plain": [
       "<AxesSubplot:>"
      ]
     },
     "execution_count": 74,
     "metadata": {},
     "output_type": "execute_result"
    },
    {
     "data": {
      "image/png": "[encoded data removed]",
      "text/plain": [
       "<Figure size 720x216 with 1 Axes>"
      ]
     },
     "metadata": {
      "needs_background": "light"
     },
     "output_type": "display_data"
    }
   ],
   "source": [
    "df['am'].value_counts().plot(kind='bar',figsize=(10, 3))"
   ]
  },
  {
   "cell_type": "markdown",
   "id": "3c4021f3",
   "metadata": {},
   "source": [
    "## 11. gear"
   ]
  },
  {
   "cell_type": "code",
   "execution_count": 75,
   "id": "db510138",
   "metadata": {},
   "outputs": [
    {
     "data": {
      "text/plain": [
       "count    32.000000\n",
       "mean      3.687500\n",
       "std       0.737804\n",
       "min       3.000000\n",
       "25%       3.000000\n",
       "50%       4.000000\n",
       "75%       4.000000\n",
       "max       5.000000\n",
       "Name: gear, dtype: float64"
      ]
     },
     "execution_count": 75,
     "metadata": {},
     "output_type": "execute_result"
    }
   ],
   "source": [
    "df['gear'].describe()"
   ]
  },
  {
   "cell_type": "code",
   "execution_count": 76,
   "id": "ccdc18b0",
   "metadata": {},
   "outputs": [
    {
     "data": {
      "text/plain": [
       "0.5823085692540974"
      ]
     },
     "execution_count": 76,
     "metadata": {},
     "output_type": "execute_result"
    }
   ],
   "source": [
    "df['gear'].skew()"
   ]
  },
  {
   "cell_type": "code",
   "execution_count": 77,
   "id": "c95827ff",
   "metadata": {},
   "outputs": [
    {
     "data": {
      "text/plain": [
       "<AxesSubplot:xlabel='gear', ylabel='Density'>"
      ]
     },
     "execution_count": 77,
     "metadata": {},
     "output_type": "execute_result"
    },
    {
     "data": {
      "image/png": "[encoded data removed]",
      "text/plain": [
       "<Figure size 432x288 with 1 Axes>"
      ]
     },
     "metadata": {
      "needs_background": "light"
     },
     "output_type": "display_data"
    }
   ],
   "source": [
    "sns.distplot(df['gear'])"
   ]
  },
  {
   "cell_type": "code",
   "execution_count": 78,
   "id": "c1ff0cf0",
   "metadata": {},
   "outputs": [
    {
     "data": {
      "text/plain": [
       "<AxesSubplot:xlabel='gear'>"
      ]
     },
     "execution_count": 78,
     "metadata": {},
     "output_type": "execute_result"
    },
    {
     "data": {
      "image/png": "[encoded data removed]",
      "text/plain": [
       "<Figure size 432x288 with 1 Axes>"
      ]
     },
     "metadata": {
      "needs_background": "light"
     },
     "output_type": "display_data"
    }
   ],
   "source": [
    "sns.boxplot(df['gear'])"
   ]
  },
  {
   "cell_type": "code",
   "execution_count": 79,
   "id": "04822d2a",
   "metadata": {},
   "outputs": [
    {
     "name": "stdout",
     "output_type": "stream",
     "text": [
      "unique categories---> [4 3 5]\n",
      "value_counts for each unique categories----> 3    15\n",
      "4    12\n",
      "5     5\n",
      "Name: gear, dtype: int64\n",
      "Null value---> 0\n"
     ]
    }
   ],
   "source": [
    "print('unique categories--->',df['gear'].unique())\n",
    "#counting the uniques\n",
    "print('value_counts for each unique categories---->',df['gear'].value_counts())\n",
    "print('Null value--->',df['gear'].isnull().sum())"
   ]
  },
  {
   "cell_type": "code",
   "execution_count": 80,
   "id": "defc5cdc",
   "metadata": {},
   "outputs": [
    {
     "data": {
      "text/plain": [
       "<AxesSubplot:>"
      ]
     },
     "execution_count": 80,
     "metadata": {},
     "output_type": "execute_result"
    },
    {
     "data": {
      "image/png": "[encoded data removed]",
      "text/plain": [
       "<Figure size 720x216 with 1 Axes>"
      ]
     },
     "metadata": {
      "needs_background": "light"
     },
     "output_type": "display_data"
    }
   ],
   "source": [
    "df['gear'].value_counts().plot(kind='bar',figsize=(10, 3))"
   ]
  },
  {
   "cell_type": "markdown",
   "id": "e862fa05",
   "metadata": {},
   "source": [
    "## 12. carb"
   ]
  },
  {
   "cell_type": "code",
   "execution_count": 81,
   "id": "44b967b5",
   "metadata": {},
   "outputs": [
    {
     "data": {
      "text/plain": [
       "count    32.0000\n",
       "mean      2.8125\n",
       "std       1.6152\n",
       "min       1.0000\n",
       "25%       2.0000\n",
       "50%       2.0000\n",
       "75%       4.0000\n",
       "max       8.0000\n",
       "Name: carb, dtype: float64"
      ]
     },
     "execution_count": 81,
     "metadata": {},
     "output_type": "execute_result"
    }
   ],
   "source": [
    "df['carb'].describe()"
   ]
  },
  {
   "cell_type": "code",
   "execution_count": 82,
   "id": "37261a26",
   "metadata": {},
   "outputs": [
    {
     "data": {
      "text/plain": [
       "1.1570911127381494"
      ]
     },
     "execution_count": 82,
     "metadata": {},
     "output_type": "execute_result"
    }
   ],
   "source": [
    "df['carb'].skew()"
   ]
  },
  {
   "cell_type": "code",
   "execution_count": 83,
   "id": "6c0c6858",
   "metadata": {},
   "outputs": [
    {
     "data": {
      "text/plain": [
       "<AxesSubplot:xlabel='carb', ylabel='Density'>"
      ]
     },
     "execution_count": 83,
     "metadata": {},
     "output_type": "execute_result"
    },
    {
     "data": {
      "image/png": "[encoded data removed]",
      "text/plain": [
       "<Figure size 432x288 with 1 Axes>"
      ]
     },
     "metadata": {
      "needs_background": "light"
     },
     "output_type": "display_data"
    }
   ],
   "source": [
    "sns.distplot(df['carb'])"
   ]
  },
  {
   "cell_type": "code",
   "execution_count": 85,
   "id": "26fcd266",
   "metadata": {},
   "outputs": [
    {
     "data": {
      "text/plain": [
       "<AxesSubplot:xlabel='carb'>"
      ]
     },
     "execution_count": 85,
     "metadata": {},
     "output_type": "execute_result"
    },
    {
     "data": {
      "image/png": "[encoded data removed]",
      "text/plain": [
       "<Figure size 432x288 with 1 Axes>"
      ]
     },
     "metadata": {
      "needs_background": "light"
     },
     "output_type": "display_data"
    }
   ],
   "source": [
    "sns.boxplot(df['carb'])"
   ]
  },
  {
   "cell_type": "code",
   "execution_count": 87,
   "id": "fa6e0d79",
   "metadata": {},
   "outputs": [
    {
     "name": "stdout",
     "output_type": "stream",
     "text": [
      "unique categories---> [4 1 2 3 6 8]\n",
      "value_counts for each unique categories----> 4    10\n",
      "2    10\n",
      "1     7\n",
      "3     3\n",
      "6     1\n",
      "8     1\n",
      "Name: carb, dtype: int64\n",
      "Null value---> 0\n"
     ]
    }
   ],
   "source": [
    "print('unique categories--->',df['carb'].unique())\n",
    "#counting the uniques\n",
    "print('value_counts for each unique categories---->',df['carb'].value_counts())\n",
    "print('Null value--->',df['carb'].isnull().sum())"
   ]
  },
  {
   "cell_type": "markdown",
   "id": "8bad6661",
   "metadata": {},
   "source": [
    "## 6. Checking the corr with each  other "
   ]
  },
  {
   "cell_type": "code",
   "execution_count": 88,
   "id": "94eebe91",
   "metadata": {},
   "outputs": [
    {
     "data": {
      "text/plain": [
       "<seaborn.axisgrid.PairGrid at 0x263394521f0>"
      ]
     },
     "execution_count": 88,
     "metadata": {},
     "output_type": "execute_result"
    },
    {
     "data": {
      "image/png": "[encoded data removed]",
      "text/plain": [
       "<Figure size 1980x1980 with 132 Axes>"
      ]
     },
     "metadata": {
      "needs_background": "light"
     },
     "output_type": "display_data"
    }
   ],
   "source": [
    "sns.pairplot(df)"
   ]
  },
  {
   "cell_type": "code",
   "execution_count": 90,
   "id": "d9eb9d48",
   "metadata": {},
   "outputs": [
    {
     "data": {
      "text/html": [
       "<div>\n",
       "<style scoped>\n",
       "    .dataframe tbody tr th:only-of-type {\n",
       "        vertical-align: middle;\n",
       "    }\n",
       "\n",
       "    .dataframe tbody tr th {\n",
       "        vertical-align: top;\n",
       "    }\n",
       "\n",
       "    .dataframe thead th {\n",
       "        text-align: right;\n",
       "    }\n",
       "</style>\n",
       "<table border=\"1\" class=\"dataframe\">\n",
       "  <thead>\n",
       "    <tr style=\"text-align: right;\">\n",
       "      <th></th>\n",
       "      <th>mpg</th>\n",
       "      <th>cyl</th>\n",
       "      <th>disp</th>\n",
       "      <th>hp</th>\n",
       "      <th>drat</th>\n",
       "      <th>wt</th>\n",
       "      <th>qsec</th>\n",
       "      <th>vs</th>\n",
       "      <th>am</th>\n",
       "      <th>gear</th>\n",
       "      <th>carb</th>\n",
       "    </tr>\n",
       "  </thead>\n",
       "  <tbody>\n",
       "    <tr>\n",
       "      <th>mpg</th>\n",
       "      <td>1.000000</td>\n",
       "      <td>-0.852162</td>\n",
       "      <td>-0.847551</td>\n",
       "      <td>-0.776168</td>\n",
       "      <td>0.681172</td>\n",
       "      <td>-0.867659</td>\n",
       "      <td>0.418684</td>\n",
       "      <td>0.664039</td>\n",
       "      <td>0.599832</td>\n",
       "      <td>0.480285</td>\n",
       "      <td>-0.550925</td>\n",
       "    </tr>\n",
       "    <tr>\n",
       "      <th>cyl</th>\n",
       "      <td>-0.852162</td>\n",
       "      <td>1.000000</td>\n",
       "      <td>0.902033</td>\n",
       "      <td>0.832447</td>\n",
       "      <td>-0.699938</td>\n",
       "      <td>0.782496</td>\n",
       "      <td>-0.591242</td>\n",
       "      <td>-0.810812</td>\n",
       "      <td>-0.522607</td>\n",
       "      <td>-0.492687</td>\n",
       "      <td>0.526988</td>\n",
       "    </tr>\n",
       "    <tr>\n",
       "      <th>disp</th>\n",
       "      <td>-0.847551</td>\n",
       "      <td>0.902033</td>\n",
       "      <td>1.000000</td>\n",
       "      <td>0.790949</td>\n",
       "      <td>-0.710214</td>\n",
       "      <td>0.887980</td>\n",
       "      <td>-0.433698</td>\n",
       "      <td>-0.710416</td>\n",
       "      <td>-0.591227</td>\n",
       "      <td>-0.555569</td>\n",
       "      <td>0.394977</td>\n",
       "    </tr>\n",
       "    <tr>\n",
       "      <th>hp</th>\n",
       "      <td>-0.776168</td>\n",
       "      <td>0.832447</td>\n",
       "      <td>0.790949</td>\n",
       "      <td>1.000000</td>\n",
       "      <td>-0.448759</td>\n",
       "      <td>0.658748</td>\n",
       "      <td>-0.708223</td>\n",
       "      <td>-0.723097</td>\n",
       "      <td>-0.243204</td>\n",
       "      <td>-0.125704</td>\n",
       "      <td>0.749812</td>\n",
       "    </tr>\n",
       "    <tr>\n",
       "      <th>drat</th>\n",
       "      <td>0.681172</td>\n",
       "      <td>-0.699938</td>\n",
       "      <td>-0.710214</td>\n",
       "      <td>-0.448759</td>\n",
       "      <td>1.000000</td>\n",
       "      <td>-0.712441</td>\n",
       "      <td>0.091205</td>\n",
       "      <td>0.440278</td>\n",
       "      <td>0.712711</td>\n",
       "      <td>0.699610</td>\n",
       "      <td>-0.090790</td>\n",
       "    </tr>\n",
       "    <tr>\n",
       "      <th>wt</th>\n",
       "      <td>-0.867659</td>\n",
       "      <td>0.782496</td>\n",
       "      <td>0.887980</td>\n",
       "      <td>0.658748</td>\n",
       "      <td>-0.712441</td>\n",
       "      <td>1.000000</td>\n",
       "      <td>-0.174716</td>\n",
       "      <td>-0.554916</td>\n",
       "      <td>-0.692495</td>\n",
       "      <td>-0.583287</td>\n",
       "      <td>0.427606</td>\n",
       "    </tr>\n",
       "    <tr>\n",
       "      <th>qsec</th>\n",
       "      <td>0.418684</td>\n",
       "      <td>-0.591242</td>\n",
       "      <td>-0.433698</td>\n",
       "      <td>-0.708223</td>\n",
       "      <td>0.091205</td>\n",
       "      <td>-0.174716</td>\n",
       "      <td>1.000000</td>\n",
       "      <td>0.744535</td>\n",
       "      <td>-0.229861</td>\n",
       "      <td>-0.212682</td>\n",
       "      <td>-0.656249</td>\n",
       "    </tr>\n",
       "    <tr>\n",
       "      <th>vs</th>\n",
       "      <td>0.664039</td>\n",
       "      <td>-0.810812</td>\n",
       "      <td>-0.710416</td>\n",
       "      <td>-0.723097</td>\n",
       "      <td>0.440278</td>\n",
       "      <td>-0.554916</td>\n",
       "      <td>0.744535</td>\n",
       "      <td>1.000000</td>\n",
       "      <td>0.168345</td>\n",
       "      <td>0.206023</td>\n",
       "      <td>-0.569607</td>\n",
       "    </tr>\n",
       "    <tr>\n",
       "      <th>am</th>\n",
       "      <td>0.599832</td>\n",
       "      <td>-0.522607</td>\n",
       "      <td>-0.591227</td>\n",
       "      <td>-0.243204</td>\n",
       "      <td>0.712711</td>\n",
       "      <td>-0.692495</td>\n",
       "      <td>-0.229861</td>\n",
       "      <td>0.168345</td>\n",
       "      <td>1.000000</td>\n",
       "      <td>0.794059</td>\n",
       "      <td>0.057534</td>\n",
       "    </tr>\n",
       "    <tr>\n",
       "      <th>gear</th>\n",
       "      <td>0.480285</td>\n",
       "      <td>-0.492687</td>\n",
       "      <td>-0.555569</td>\n",
       "      <td>-0.125704</td>\n",
       "      <td>0.699610</td>\n",
       "      <td>-0.583287</td>\n",
       "      <td>-0.212682</td>\n",
       "      <td>0.206023</td>\n",
       "      <td>0.794059</td>\n",
       "      <td>1.000000</td>\n",
       "      <td>0.274073</td>\n",
       "    </tr>\n",
       "    <tr>\n",
       "      <th>carb</th>\n",
       "      <td>-0.550925</td>\n",
       "      <td>0.526988</td>\n",
       "      <td>0.394977</td>\n",
       "      <td>0.749812</td>\n",
       "      <td>-0.090790</td>\n",
       "      <td>0.427606</td>\n",
       "      <td>-0.656249</td>\n",
       "      <td>-0.569607</td>\n",
       "      <td>0.057534</td>\n",
       "      <td>0.274073</td>\n",
       "      <td>1.000000</td>\n",
       "    </tr>\n",
       "  </tbody>\n",
       "</table>\n",
       "</div>"
      ],
      "text/plain": [
       "           mpg       cyl      disp        hp      drat        wt      qsec  \\\n",
       "mpg   1.000000 -0.852162 -0.847551 -0.776168  0.681172 -0.867659  0.418684   \n",
       "cyl  -0.852162  1.000000  0.902033  0.832447 -0.699938  0.782496 -0.591242   \n",
       "disp -0.847551  0.902033  1.000000  0.790949 -0.710214  0.887980 -0.433698   \n",
       "hp   -0.776168  0.832447  0.790949  1.000000 -0.448759  0.658748 -0.708223   \n",
       "drat  0.681172 -0.699938 -0.710214 -0.448759  1.000000 -0.712441  0.091205   \n",
       "wt   -0.867659  0.782496  0.887980  0.658748 -0.712441  1.000000 -0.174716   \n",
       "qsec  0.418684 -0.591242 -0.433698 -0.708223  0.091205 -0.174716  1.000000   \n",
       "vs    0.664039 -0.810812 -0.710416 -0.723097  0.440278 -0.554916  0.744535   \n",
       "am    0.599832 -0.522607 -0.591227 -0.243204  0.712711 -0.692495 -0.229861   \n",
       "gear  0.480285 -0.492687 -0.555569 -0.125704  0.699610 -0.583287 -0.212682   \n",
       "carb -0.550925  0.526988  0.394977  0.749812 -0.090790  0.427606 -0.656249   \n",
       "\n",
       "            vs        am      gear      carb  \n",
       "mpg   0.664039  0.599832  0.480285 -0.550925  \n",
       "cyl  -0.810812 -0.522607 -0.492687  0.526988  \n",
       "disp -0.710416 -0.591227 -0.555569  0.394977  \n",
       "hp   -0.723097 -0.243204 -0.125704  0.749812  \n",
       "drat  0.440278  0.712711  0.699610 -0.090790  \n",
       "wt   -0.554916 -0.692495 -0.583287  0.427606  \n",
       "qsec  0.744535 -0.229861 -0.212682 -0.656249  \n",
       "vs    1.000000  0.168345  0.206023 -0.569607  \n",
       "am    0.168345  1.000000  0.794059  0.057534  \n",
       "gear  0.206023  0.794059  1.000000  0.274073  \n",
       "carb -0.569607  0.057534  0.274073  1.000000  "
      ]
     },
     "execution_count": 90,
     "metadata": {},
     "output_type": "execute_result"
    }
   ],
   "source": [
    "df.corr()"
   ]
  },
  {
   "cell_type": "code",
   "execution_count": 95,
   "id": "cedd283a",
   "metadata": {},
   "outputs": [
    {
     "data": {
      "text/plain": [
       "<AxesSubplot:>"
      ]
     },
     "execution_count": 95,
     "metadata": {},
     "output_type": "execute_result"
    },
    {
     "data": {
      "image/png": "[encoded data removed]",
      "text/plain": [
       "<Figure size 1584x504 with 2 Axes>"
      ]
     },
     "metadata": {
      "needs_background": "light"
     },
     "output_type": "display_data"
    }
   ],
   "source": [
    "plt.figure(figsize=(22,7)) # ploting the heat map\n",
    "sns.heatmap(df.corr(),annot=True,linewidths=0.1,linecolor=\"black\",fmt=\"0.2f\")"
   ]
  },
  {
   "cell_type": "markdown",
   "id": "cd73230b",
   "metadata": {},
   "source": [
    "## with the following function we can select highly correlated features"
   ]
  },
  {
   "cell_type": "code",
   "execution_count": 96,
   "id": "3376dfeb",
   "metadata": {},
   "outputs": [],
   "source": [
    "# with the following function we can select highly correlated features\n",
    "# it will remove the first feature that is correlated with anything other feature\n",
    "\n",
    "def correlation(dataset, threshold):\n",
    "    col_corr = set()  # Set of all the names of correlated columns\n",
    "    corr_matrix = dataset.corr()\n",
    "    for i in range(len(corr_matrix.columns)):\n",
    "        for j in range(i):\n",
    "            if abs(corr_matrix.iloc[i, j]) > threshold: # we are interested in absolute coeff value\n",
    "                colname = corr_matrix.columns[i]  # getting the name of column\n",
    "                col_corr.add(colname)\n",
    "    return col_corr"
   ]
  },
  {
   "cell_type": "code",
   "execution_count": 101,
   "id": "3086ffee",
   "metadata": {},
   "outputs": [
    {
     "data": {
      "text/plain": [
       "5"
      ]
     },
     "execution_count": 101,
     "metadata": {},
     "output_type": "execute_result"
    }
   ],
   "source": [
    "corr_features = correlation(df, 0.8)\n",
    "len(set(corr_features))"
   ]
  },
  {
   "cell_type": "code",
   "execution_count": 103,
   "id": "fad599ba",
   "metadata": {},
   "outputs": [
    {
     "data": {
      "text/plain": [
       "{'cyl', 'disp', 'hp', 'vs', 'wt'}"
      ]
     },
     "execution_count": 103,
     "metadata": {},
     "output_type": "execute_result"
    }
   ],
   "source": [
    "corr_features # 80% highly correlated features name"
   ]
  },
  {
   "cell_type": "markdown",
   "id": "5cc26d23",
   "metadata": {},
   "source": [
    "### all the observations are listed below with respect to what we have seen up to"
   ]
  },
  {
   "attachments": {
    "image.png": {
     "image/png": "[encoded data removed]"
    }
   },
   "cell_type": "markdown",
   "id": "60e3cab4",
   "metadata": {},
   "source": [
    "![image.png](attachment:image.png)"
   ]
  },
  {
   "cell_type": "markdown",
   "id": "2d7b6208",
   "metadata": {},
   "source": [
    "## 7. Outliers treatment "
   ]
  },
  {
   "cell_type": "markdown",
   "id": "4c8cb4e0",
   "metadata": {},
   "source": [
    "#### There are several ways to treat outliers when working with data. \n",
    "- 1) delete the outlires \n",
    "        Z-score method \n",
    "        IQR method\n",
    "\n",
    "- 2) Transforming the outlires\n",
    "        log or the square root, can help reduce the impact of outliers"
   ]
  },
  {
   "cell_type": "markdown",
   "id": "a985eef5",
   "metadata": {},
   "source": [
    "#### Note:- we have small data set so  are not goint to delete any data so we will  go with  transformation  technique"
   ]
  },
  {
   "cell_type": "code",
   "execution_count": 105,
   "id": "2df5b91a",
   "metadata": {},
   "outputs": [],
   "source": [
    "from sklearn.preprocessing import PowerTransformer\n",
    "scaler = PowerTransformer (method='box-cox')\n",
    "df['mpg'] = scaler.fit_transform(df[['mpg']].values)"
   ]
  },
  {
   "cell_type": "code",
   "execution_count": 106,
   "id": "a1d3a62c",
   "metadata": {},
   "outputs": [
    {
     "data": {
      "text/plain": [
       "-0.0010867846440279492"
      ]
     },
     "execution_count": 106,
     "metadata": {},
     "output_type": "execute_result"
    }
   ],
   "source": [
    "df['mpg'].skew()"
   ]
  },
  {
   "cell_type": "code",
   "execution_count": 107,
   "id": "2ca41ec3",
   "metadata": {},
   "outputs": [
    {
     "data": {
      "text/plain": [
       "<AxesSubplot:xlabel='mpg'>"
      ]
     },
     "execution_count": 107,
     "metadata": {},
     "output_type": "execute_result"
    },
    {
     "data": {
      "image/png": "[encoded data removed]",
      "text/plain": [
       "<Figure size 432x288 with 1 Axes>"
      ]
     },
     "metadata": {
      "needs_background": "light"
     },
     "output_type": "display_data"
    }
   ],
   "source": [
    "sns.boxplot(df['mpg'])"
   ]
  },
  {
   "cell_type": "code",
   "execution_count": 108,
   "id": "81e931e0",
   "metadata": {},
   "outputs": [
    {
     "data": {
      "text/plain": [
       "<AxesSubplot:xlabel='mpg', ylabel='Density'>"
      ]
     },
     "execution_count": 108,
     "metadata": {},
     "output_type": "execute_result"
    },
    {
     "data": {
      "image/png": "[encoded data removed]",
      "text/plain": [
       "<Figure size 432x288 with 1 Axes>"
      ]
     },
     "metadata": {
      "needs_background": "light"
     },
     "output_type": "display_data"
    }
   ],
   "source": [
    "sns.distplot(df['mpg'])"
   ]
  },
  {
   "cell_type": "code",
   "execution_count": 110,
   "id": "12c97c4e",
   "metadata": {},
   "outputs": [],
   "source": [
    "from sklearn.preprocessing import PowerTransformer\n",
    "scaler = PowerTransformer (method='box-cox')\n",
    "df['hp'] = scaler.fit_transform(df[['hp']].values)"
   ]
  },
  {
   "cell_type": "code",
   "execution_count": 111,
   "id": "5b50ef8a",
   "metadata": {},
   "outputs": [
    {
     "data": {
      "text/plain": [
       "-0.012452153864081352"
      ]
     },
     "execution_count": 111,
     "metadata": {},
     "output_type": "execute_result"
    }
   ],
   "source": [
    "df['hp'].skew()"
   ]
  },
  {
   "cell_type": "code",
   "execution_count": 112,
   "id": "7c1efb49",
   "metadata": {},
   "outputs": [
    {
     "data": {
      "text/plain": [
       "<AxesSubplot:xlabel='hp'>"
      ]
     },
     "execution_count": 112,
     "metadata": {},
     "output_type": "execute_result"
    },
    {
     "data": {
      "image/png": "[encoded data removed]",
      "text/plain": [
       "<Figure size 432x288 with 1 Axes>"
      ]
     },
     "metadata": {
      "needs_background": "light"
     },
     "output_type": "display_data"
    }
   ],
   "source": [
    "sns.boxplot(df['hp'])"
   ]
  },
  {
   "cell_type": "code",
   "execution_count": 113,
   "id": "7cfab057",
   "metadata": {},
   "outputs": [
    {
     "data": {
      "text/plain": [
       "<AxesSubplot:xlabel='hp', ylabel='Density'>"
      ]
     },
     "execution_count": 113,
     "metadata": {},
     "output_type": "execute_result"
    },
    {
     "data": {
      "image/png": "[encoded data removed]",
      "text/plain": [
       "<Figure size 432x288 with 1 Axes>"
      ]
     },
     "metadata": {
      "needs_background": "light"
     },
     "output_type": "display_data"
    }
   ],
   "source": [
    "sns.distplot(df['hp'])"
   ]
  },
  {
   "cell_type": "code",
   "execution_count": 114,
   "id": "9259eb28",
   "metadata": {},
   "outputs": [],
   "source": [
    "from sklearn.preprocessing import PowerTransformer\n",
    "scaler = PowerTransformer (method='box-cox')\n",
    "df['wt'] = scaler.fit_transform(df[['wt']].values)"
   ]
  },
  {
   "cell_type": "code",
   "execution_count": 115,
   "id": "9d66d8cb",
   "metadata": {},
   "outputs": [
    {
     "data": {
      "text/plain": [
       "-0.010671914628154918"
      ]
     },
     "execution_count": 115,
     "metadata": {},
     "output_type": "execute_result"
    }
   ],
   "source": [
    "df['wt'].skew()"
   ]
  },
  {
   "cell_type": "code",
   "execution_count": 116,
   "id": "2c80942f",
   "metadata": {},
   "outputs": [
    {
     "data": {
      "text/plain": [
       "<AxesSubplot:xlabel='wt'>"
      ]
     },
     "execution_count": 116,
     "metadata": {},
     "output_type": "execute_result"
    },
    {
     "data": {
      "image/png": "[encoded data removed]",
      "text/plain": [
       "<Figure size 432x288 with 1 Axes>"
      ]
     },
     "metadata": {
      "needs_background": "light"
     },
     "output_type": "display_data"
    }
   ],
   "source": [
    "sns.boxplot(df['wt'])"
   ]
  },
  {
   "cell_type": "code",
   "execution_count": 117,
   "id": "3ae48029",
   "metadata": {},
   "outputs": [
    {
     "data": {
      "text/plain": [
       "<AxesSubplot:xlabel='wt', ylabel='Density'>"
      ]
     },
     "execution_count": 117,
     "metadata": {},
     "output_type": "execute_result"
    },
    {
     "data": {
      "image/png": "[encoded data removed]",
      "text/plain": [
       "<Figure size 432x288 with 1 Axes>"
      ]
     },
     "metadata": {
      "needs_background": "light"
     },
     "output_type": "display_data"
    }
   ],
   "source": [
    "sns.distplot(df['wt'])"
   ]
  },
  {
   "cell_type": "code",
   "execution_count": 120,
   "id": "15bc0b7f",
   "metadata": {},
   "outputs": [],
   "source": [
    "from sklearn.preprocessing import PowerTransformer\n",
    "scaler = PowerTransformer (method='box-cox')\n",
    "df['qsec'] = scaler.fit_transform(df[['qsec']].values)"
   ]
  },
  {
   "cell_type": "code",
   "execution_count": 121,
   "id": "bd1e0b9b",
   "metadata": {},
   "outputs": [
    {
     "data": {
      "text/plain": [
       "-0.0008853731632667843"
      ]
     },
     "execution_count": 121,
     "metadata": {},
     "output_type": "execute_result"
    }
   ],
   "source": [
    "df['qsec'].skew()"
   ]
  },
  {
   "cell_type": "code",
   "execution_count": 123,
   "id": "43834625",
   "metadata": {},
   "outputs": [
    {
     "data": {
      "text/plain": [
       "<AxesSubplot:xlabel='qsec', ylabel='Density'>"
      ]
     },
     "execution_count": 123,
     "metadata": {},
     "output_type": "execute_result"
    },
    {
     "data": {
      "image/png": "[encoded data removed]",
      "text/plain": [
       "<Figure size 432x288 with 1 Axes>"
      ]
     },
     "metadata": {
      "needs_background": "light"
     },
     "output_type": "display_data"
    }
   ],
   "source": [
    "sns.distplot(df['qsec'])"
   ]
  },
  {
   "cell_type": "code",
   "execution_count": 125,
   "id": "b84a6df8",
   "metadata": {},
   "outputs": [],
   "source": [
    "from sklearn.preprocessing import PowerTransformer\n",
    "scaler = PowerTransformer (method='box-cox')\n",
    "df['carb'] = scaler.fit_transform(df[['carb']].values)"
   ]
  },
  {
   "cell_type": "code",
   "execution_count": 126,
   "id": "fca6f6e9",
   "metadata": {},
   "outputs": [
    {
     "data": {
      "text/plain": [
       "-0.01981389351395861"
      ]
     },
     "execution_count": 126,
     "metadata": {},
     "output_type": "execute_result"
    }
   ],
   "source": [
    "df['carb'].skew()"
   ]
  },
  {
   "cell_type": "code",
   "execution_count": 127,
   "id": "5c531791",
   "metadata": {},
   "outputs": [
    {
     "data": {
      "text/plain": [
       "<AxesSubplot:xlabel='carb', ylabel='Density'>"
      ]
     },
     "execution_count": 127,
     "metadata": {},
     "output_type": "execute_result"
    },
    {
     "data": {
      "image/png": "[encoded data removed]",
      "text/plain": [
       "<Figure size 432x288 with 1 Axes>"
      ]
     },
     "metadata": {
      "needs_background": "light"
     },
     "output_type": "display_data"
    }
   ],
   "source": [
    "sns.distplot(df['carb'])"
   ]
  },
  {
   "cell_type": "code",
   "execution_count": 128,
   "id": "493277b1",
   "metadata": {},
   "outputs": [
    {
     "data": {
      "text/plain": [
       "<AxesSubplot:xlabel='carb'>"
      ]
     },
     "execution_count": 128,
     "metadata": {},
     "output_type": "execute_result"
    },
    {
     "data": {
      "image/png": "[encoded data removed]",
      "text/plain": [
       "<Figure size 432x288 with 1 Axes>"
      ]
     },
     "metadata": {
      "needs_background": "light"
     },
     "output_type": "display_data"
    }
   ],
   "source": [
    "sns.boxplot(df['carb'])"
   ]
  },
  {
   "cell_type": "markdown",
   "id": "db047a97",
   "metadata": {},
   "source": [
    "## 8. It is time to convert categorical_columns into numrical value using get_dummies encoding technique"
   ]
  },
  {
   "cell_type": "code",
   "execution_count": 130,
   "id": "b0b9b6ff",
   "metadata": {},
   "outputs": [],
   "source": [
    "df_get_dummies = pd.get_dummies(df['name'], drop_first=True) \n",
    "                                                                      "
   ]
  },
  {
   "cell_type": "code",
   "execution_count": 131,
   "id": "97dd7601",
   "metadata": {},
   "outputs": [
    {
     "data": {
      "text/html": [
       "<div>\n",
       "<style scoped>\n",
       "    .dataframe tbody tr th:only-of-type {\n",
       "        vertical-align: middle;\n",
       "    }\n",
       "\n",
       "    .dataframe tbody tr th {\n",
       "        vertical-align: top;\n",
       "    }\n",
       "\n",
       "    .dataframe thead th {\n",
       "        text-align: right;\n",
       "    }\n",
       "</style>\n",
       "<table border=\"1\" class=\"dataframe\">\n",
       "  <thead>\n",
       "    <tr style=\"text-align: right;\">\n",
       "      <th></th>\n",
       "      <th>Cadillac Fleetwood</th>\n",
       "      <th>Camaro Z28</th>\n",
       "      <th>Chrysler Imperial</th>\n",
       "      <th>Datsun 710</th>\n",
       "      <th>Dodge Challenger</th>\n",
       "      <th>Duster 360</th>\n",
       "      <th>Ferrari Dino</th>\n",
       "      <th>Fiat 128</th>\n",
       "      <th>Fiat X1-9</th>\n",
       "      <th>Ford Pantera L</th>\n",
       "      <th>...</th>\n",
       "      <th>Merc 280C</th>\n",
       "      <th>Merc 450SE</th>\n",
       "      <th>Merc 450SL</th>\n",
       "      <th>Merc 450SLC</th>\n",
       "      <th>Pontiac Firebird</th>\n",
       "      <th>Porsche 914-2</th>\n",
       "      <th>Toyota Corolla</th>\n",
       "      <th>Toyota Corona</th>\n",
       "      <th>Valiant</th>\n",
       "      <th>Volvo 142E</th>\n",
       "    </tr>\n",
       "  </thead>\n",
       "  <tbody>\n",
       "    <tr>\n",
       "      <th>0</th>\n",
       "      <td>0</td>\n",
       "      <td>0</td>\n",
       "      <td>0</td>\n",
       "      <td>0</td>\n",
       "      <td>0</td>\n",
       "      <td>0</td>\n",
       "      <td>0</td>\n",
       "      <td>0</td>\n",
       "      <td>0</td>\n",
       "      <td>0</td>\n",
       "      <td>...</td>\n",
       "      <td>0</td>\n",
       "      <td>0</td>\n",
       "      <td>0</td>\n",
       "      <td>0</td>\n",
       "      <td>0</td>\n",
       "      <td>0</td>\n",
       "      <td>0</td>\n",
       "      <td>0</td>\n",
       "      <td>0</td>\n",
       "      <td>0</td>\n",
       "    </tr>\n",
       "    <tr>\n",
       "      <th>1</th>\n",
       "      <td>0</td>\n",
       "      <td>0</td>\n",
       "      <td>0</td>\n",
       "      <td>0</td>\n",
       "      <td>0</td>\n",
       "      <td>0</td>\n",
       "      <td>0</td>\n",
       "      <td>0</td>\n",
       "      <td>0</td>\n",
       "      <td>0</td>\n",
       "      <td>...</td>\n",
       "      <td>0</td>\n",
       "      <td>0</td>\n",
       "      <td>0</td>\n",
       "      <td>0</td>\n",
       "      <td>0</td>\n",
       "      <td>0</td>\n",
       "      <td>0</td>\n",
       "      <td>0</td>\n",
       "      <td>0</td>\n",
       "      <td>0</td>\n",
       "    </tr>\n",
       "    <tr>\n",
       "      <th>2</th>\n",
       "      <td>0</td>\n",
       "      <td>0</td>\n",
       "      <td>0</td>\n",
       "      <td>1</td>\n",
       "      <td>0</td>\n",
       "      <td>0</td>\n",
       "      <td>0</td>\n",
       "      <td>0</td>\n",
       "      <td>0</td>\n",
       "      <td>0</td>\n",
       "      <td>...</td>\n",
       "      <td>0</td>\n",
       "      <td>0</td>\n",
       "      <td>0</td>\n",
       "      <td>0</td>\n",
       "      <td>0</td>\n",
       "      <td>0</td>\n",
       "      <td>0</td>\n",
       "      <td>0</td>\n",
       "      <td>0</td>\n",
       "      <td>0</td>\n",
       "    </tr>\n",
       "    <tr>\n",
       "      <th>3</th>\n",
       "      <td>0</td>\n",
       "      <td>0</td>\n",
       "      <td>0</td>\n",
       "      <td>0</td>\n",
       "      <td>0</td>\n",
       "      <td>0</td>\n",
       "      <td>0</td>\n",
       "      <td>0</td>\n",
       "      <td>0</td>\n",
       "      <td>0</td>\n",
       "      <td>...</td>\n",
       "      <td>0</td>\n",
       "      <td>0</td>\n",
       "      <td>0</td>\n",
       "      <td>0</td>\n",
       "      <td>0</td>\n",
       "      <td>0</td>\n",
       "      <td>0</td>\n",
       "      <td>0</td>\n",
       "      <td>0</td>\n",
       "      <td>0</td>\n",
       "    </tr>\n",
       "    <tr>\n",
       "      <th>4</th>\n",
       "      <td>0</td>\n",
       "      <td>0</td>\n",
       "      <td>0</td>\n",
       "      <td>0</td>\n",
       "      <td>0</td>\n",
       "      <td>0</td>\n",
       "      <td>0</td>\n",
       "      <td>0</td>\n",
       "      <td>0</td>\n",
       "      <td>0</td>\n",
       "      <td>...</td>\n",
       "      <td>0</td>\n",
       "      <td>0</td>\n",
       "      <td>0</td>\n",
       "      <td>0</td>\n",
       "      <td>0</td>\n",
       "      <td>0</td>\n",
       "      <td>0</td>\n",
       "      <td>0</td>\n",
       "      <td>0</td>\n",
       "      <td>0</td>\n",
       "    </tr>\n",
       "    <tr>\n",
       "      <th>5</th>\n",
       "      <td>0</td>\n",
       "      <td>0</td>\n",
       "      <td>0</td>\n",
       "      <td>0</td>\n",
       "      <td>0</td>\n",
       "      <td>0</td>\n",
       "      <td>0</td>\n",
       "      <td>0</td>\n",
       "      <td>0</td>\n",
       "      <td>0</td>\n",
       "      <td>...</td>\n",
       "      <td>0</td>\n",
       "      <td>0</td>\n",
       "      <td>0</td>\n",
       "      <td>0</td>\n",
       "      <td>0</td>\n",
       "      <td>0</td>\n",
       "      <td>0</td>\n",
       "      <td>0</td>\n",
       "      <td>1</td>\n",
       "      <td>0</td>\n",
       "    </tr>\n",
       "    <tr>\n",
       "      <th>6</th>\n",
       "      <td>0</td>\n",
       "      <td>0</td>\n",
       "      <td>0</td>\n",
       "      <td>0</td>\n",
       "      <td>0</td>\n",
       "      <td>1</td>\n",
       "      <td>0</td>\n",
       "      <td>0</td>\n",
       "      <td>0</td>\n",
       "      <td>0</td>\n",
       "      <td>...</td>\n",
       "      <td>0</td>\n",
       "      <td>0</td>\n",
       "      <td>0</td>\n",
       "      <td>0</td>\n",
       "      <td>0</td>\n",
       "      <td>0</td>\n",
       "      <td>0</td>\n",
       "      <td>0</td>\n",
       "      <td>0</td>\n",
       "      <td>0</td>\n",
       "    </tr>\n",
       "    <tr>\n",
       "      <th>7</th>\n",
       "      <td>0</td>\n",
       "      <td>0</td>\n",
       "      <td>0</td>\n",
       "      <td>0</td>\n",
       "      <td>0</td>\n",
       "      <td>0</td>\n",
       "      <td>0</td>\n",
       "      <td>0</td>\n",
       "      <td>0</td>\n",
       "      <td>0</td>\n",
       "      <td>...</td>\n",
       "      <td>0</td>\n",
       "      <td>0</td>\n",
       "      <td>0</td>\n",
       "      <td>0</td>\n",
       "      <td>0</td>\n",
       "      <td>0</td>\n",
       "      <td>0</td>\n",
       "      <td>0</td>\n",
       "      <td>0</td>\n",
       "      <td>0</td>\n",
       "    </tr>\n",
       "    <tr>\n",
       "      <th>8</th>\n",
       "      <td>0</td>\n",
       "      <td>0</td>\n",
       "      <td>0</td>\n",
       "      <td>0</td>\n",
       "      <td>0</td>\n",
       "      <td>0</td>\n",
       "      <td>0</td>\n",
       "      <td>0</td>\n",
       "      <td>0</td>\n",
       "      <td>0</td>\n",
       "      <td>...</td>\n",
       "      <td>0</td>\n",
       "      <td>0</td>\n",
       "      <td>0</td>\n",
       "      <td>0</td>\n",
       "      <td>0</td>\n",
       "      <td>0</td>\n",
       "      <td>0</td>\n",
       "      <td>0</td>\n",
       "      <td>0</td>\n",
       "      <td>0</td>\n",
       "    </tr>\n",
       "    <tr>\n",
       "      <th>9</th>\n",
       "      <td>0</td>\n",
       "      <td>0</td>\n",
       "      <td>0</td>\n",
       "      <td>0</td>\n",
       "      <td>0</td>\n",
       "      <td>0</td>\n",
       "      <td>0</td>\n",
       "      <td>0</td>\n",
       "      <td>0</td>\n",
       "      <td>0</td>\n",
       "      <td>...</td>\n",
       "      <td>0</td>\n",
       "      <td>0</td>\n",
       "      <td>0</td>\n",
       "      <td>0</td>\n",
       "      <td>0</td>\n",
       "      <td>0</td>\n",
       "      <td>0</td>\n",
       "      <td>0</td>\n",
       "      <td>0</td>\n",
       "      <td>0</td>\n",
       "    </tr>\n",
       "    <tr>\n",
       "      <th>10</th>\n",
       "      <td>0</td>\n",
       "      <td>0</td>\n",
       "      <td>0</td>\n",
       "      <td>0</td>\n",
       "      <td>0</td>\n",
       "      <td>0</td>\n",
       "      <td>0</td>\n",
       "      <td>0</td>\n",
       "      <td>0</td>\n",
       "      <td>0</td>\n",
       "      <td>...</td>\n",
       "      <td>1</td>\n",
       "      <td>0</td>\n",
       "      <td>0</td>\n",
       "      <td>0</td>\n",
       "      <td>0</td>\n",
       "      <td>0</td>\n",
       "      <td>0</td>\n",
       "      <td>0</td>\n",
       "      <td>0</td>\n",
       "      <td>0</td>\n",
       "    </tr>\n",
       "    <tr>\n",
       "      <th>11</th>\n",
       "      <td>0</td>\n",
       "      <td>0</td>\n",
       "      <td>0</td>\n",
       "      <td>0</td>\n",
       "      <td>0</td>\n",
       "      <td>0</td>\n",
       "      <td>0</td>\n",
       "      <td>0</td>\n",
       "      <td>0</td>\n",
       "      <td>0</td>\n",
       "      <td>...</td>\n",
       "      <td>0</td>\n",
       "      <td>1</td>\n",
       "      <td>0</td>\n",
       "      <td>0</td>\n",
       "      <td>0</td>\n",
       "      <td>0</td>\n",
       "      <td>0</td>\n",
       "      <td>0</td>\n",
       "      <td>0</td>\n",
       "      <td>0</td>\n",
       "    </tr>\n",
       "    <tr>\n",
       "      <th>12</th>\n",
       "      <td>0</td>\n",
       "      <td>0</td>\n",
       "      <td>0</td>\n",
       "      <td>0</td>\n",
       "      <td>0</td>\n",
       "      <td>0</td>\n",
       "      <td>0</td>\n",
       "      <td>0</td>\n",
       "      <td>0</td>\n",
       "      <td>0</td>\n",
       "      <td>...</td>\n",
       "      <td>0</td>\n",
       "      <td>0</td>\n",
       "      <td>1</td>\n",
       "      <td>0</td>\n",
       "      <td>0</td>\n",
       "      <td>0</td>\n",
       "      <td>0</td>\n",
       "      <td>0</td>\n",
       "      <td>0</td>\n",
       "      <td>0</td>\n",
       "    </tr>\n",
       "    <tr>\n",
       "      <th>13</th>\n",
       "      <td>0</td>\n",
       "      <td>0</td>\n",
       "      <td>0</td>\n",
       "      <td>0</td>\n",
       "      <td>0</td>\n",
       "      <td>0</td>\n",
       "      <td>0</td>\n",
       "      <td>0</td>\n",
       "      <td>0</td>\n",
       "      <td>0</td>\n",
       "      <td>...</td>\n",
       "      <td>0</td>\n",
       "      <td>0</td>\n",
       "      <td>0</td>\n",
       "      <td>1</td>\n",
       "      <td>0</td>\n",
       "      <td>0</td>\n",
       "      <td>0</td>\n",
       "      <td>0</td>\n",
       "      <td>0</td>\n",
       "      <td>0</td>\n",
       "    </tr>\n",
       "    <tr>\n",
       "      <th>14</th>\n",
       "      <td>1</td>\n",
       "      <td>0</td>\n",
       "      <td>0</td>\n",
       "      <td>0</td>\n",
       "      <td>0</td>\n",
       "      <td>0</td>\n",
       "      <td>0</td>\n",
       "      <td>0</td>\n",
       "      <td>0</td>\n",
       "      <td>0</td>\n",
       "      <td>...</td>\n",
       "      <td>0</td>\n",
       "      <td>0</td>\n",
       "      <td>0</td>\n",
       "      <td>0</td>\n",
       "      <td>0</td>\n",
       "      <td>0</td>\n",
       "      <td>0</td>\n",
       "      <td>0</td>\n",
       "      <td>0</td>\n",
       "      <td>0</td>\n",
       "    </tr>\n",
       "    <tr>\n",
       "      <th>15</th>\n",
       "      <td>0</td>\n",
       "      <td>0</td>\n",
       "      <td>0</td>\n",
       "      <td>0</td>\n",
       "      <td>0</td>\n",
       "      <td>0</td>\n",
       "      <td>0</td>\n",
       "      <td>0</td>\n",
       "      <td>0</td>\n",
       "      <td>0</td>\n",
       "      <td>...</td>\n",
       "      <td>0</td>\n",
       "      <td>0</td>\n",
       "      <td>0</td>\n",
       "      <td>0</td>\n",
       "      <td>0</td>\n",
       "      <td>0</td>\n",
       "      <td>0</td>\n",
       "      <td>0</td>\n",
       "      <td>0</td>\n",
       "      <td>0</td>\n",
       "    </tr>\n",
       "    <tr>\n",
       "      <th>16</th>\n",
       "      <td>0</td>\n",
       "      <td>0</td>\n",
       "      <td>1</td>\n",
       "      <td>0</td>\n",
       "      <td>0</td>\n",
       "      <td>0</td>\n",
       "      <td>0</td>\n",
       "      <td>0</td>\n",
       "      <td>0</td>\n",
       "      <td>0</td>\n",
       "      <td>...</td>\n",
       "      <td>0</td>\n",
       "      <td>0</td>\n",
       "      <td>0</td>\n",
       "      <td>0</td>\n",
       "      <td>0</td>\n",
       "      <td>0</td>\n",
       "      <td>0</td>\n",
       "      <td>0</td>\n",
       "      <td>0</td>\n",
       "      <td>0</td>\n",
       "    </tr>\n",
       "    <tr>\n",
       "      <th>17</th>\n",
       "      <td>0</td>\n",
       "      <td>0</td>\n",
       "      <td>0</td>\n",
       "      <td>0</td>\n",
       "      <td>0</td>\n",
       "      <td>0</td>\n",
       "      <td>0</td>\n",
       "      <td>1</td>\n",
       "      <td>0</td>\n",
       "      <td>0</td>\n",
       "      <td>...</td>\n",
       "      <td>0</td>\n",
       "      <td>0</td>\n",
       "      <td>0</td>\n",
       "      <td>0</td>\n",
       "      <td>0</td>\n",
       "      <td>0</td>\n",
       "      <td>0</td>\n",
       "      <td>0</td>\n",
       "      <td>0</td>\n",
       "      <td>0</td>\n",
       "    </tr>\n",
       "    <tr>\n",
       "      <th>18</th>\n",
       "      <td>0</td>\n",
       "      <td>0</td>\n",
       "      <td>0</td>\n",
       "      <td>0</td>\n",
       "      <td>0</td>\n",
       "      <td>0</td>\n",
       "      <td>0</td>\n",
       "      <td>0</td>\n",
       "      <td>0</td>\n",
       "      <td>0</td>\n",
       "      <td>...</td>\n",
       "      <td>0</td>\n",
       "      <td>0</td>\n",
       "      <td>0</td>\n",
       "      <td>0</td>\n",
       "      <td>0</td>\n",
       "      <td>0</td>\n",
       "      <td>0</td>\n",
       "      <td>0</td>\n",
       "      <td>0</td>\n",
       "      <td>0</td>\n",
       "    </tr>\n",
       "    <tr>\n",
       "      <th>19</th>\n",
       "      <td>0</td>\n",
       "      <td>0</td>\n",
       "      <td>0</td>\n",
       "      <td>0</td>\n",
       "      <td>0</td>\n",
       "      <td>0</td>\n",
       "      <td>0</td>\n",
       "      <td>0</td>\n",
       "      <td>0</td>\n",
       "      <td>0</td>\n",
       "      <td>...</td>\n",
       "      <td>0</td>\n",
       "      <td>0</td>\n",
       "      <td>0</td>\n",
       "      <td>0</td>\n",
       "      <td>0</td>\n",
       "      <td>0</td>\n",
       "      <td>1</td>\n",
       "      <td>0</td>\n",
       "      <td>0</td>\n",
       "      <td>0</td>\n",
       "    </tr>\n",
       "    <tr>\n",
       "      <th>20</th>\n",
       "      <td>0</td>\n",
       "      <td>0</td>\n",
       "      <td>0</td>\n",
       "      <td>0</td>\n",
       "      <td>0</td>\n",
       "      <td>0</td>\n",
       "      <td>0</td>\n",
       "      <td>0</td>\n",
       "      <td>0</td>\n",
       "      <td>0</td>\n",
       "      <td>...</td>\n",
       "      <td>0</td>\n",
       "      <td>0</td>\n",
       "      <td>0</td>\n",
       "      <td>0</td>\n",
       "      <td>0</td>\n",
       "      <td>0</td>\n",
       "      <td>0</td>\n",
       "      <td>1</td>\n",
       "      <td>0</td>\n",
       "      <td>0</td>\n",
       "    </tr>\n",
       "    <tr>\n",
       "      <th>21</th>\n",
       "      <td>0</td>\n",
       "      <td>0</td>\n",
       "      <td>0</td>\n",
       "      <td>0</td>\n",
       "      <td>1</td>\n",
       "      <td>0</td>\n",
       "      <td>0</td>\n",
       "      <td>0</td>\n",
       "      <td>0</td>\n",
       "      <td>0</td>\n",
       "      <td>...</td>\n",
       "      <td>0</td>\n",
       "      <td>0</td>\n",
       "      <td>0</td>\n",
       "      <td>0</td>\n",
       "      <td>0</td>\n",
       "      <td>0</td>\n",
       "      <td>0</td>\n",
       "      <td>0</td>\n",
       "      <td>0</td>\n",
       "      <td>0</td>\n",
       "    </tr>\n",
       "    <tr>\n",
       "      <th>22</th>\n",
       "      <td>0</td>\n",
       "      <td>0</td>\n",
       "      <td>0</td>\n",
       "      <td>0</td>\n",
       "      <td>0</td>\n",
       "      <td>0</td>\n",
       "      <td>0</td>\n",
       "      <td>0</td>\n",
       "      <td>0</td>\n",
       "      <td>0</td>\n",
       "      <td>...</td>\n",
       "      <td>0</td>\n",
       "      <td>0</td>\n",
       "      <td>0</td>\n",
       "      <td>0</td>\n",
       "      <td>0</td>\n",
       "      <td>0</td>\n",
       "      <td>0</td>\n",
       "      <td>0</td>\n",
       "      <td>0</td>\n",
       "      <td>0</td>\n",
       "    </tr>\n",
       "    <tr>\n",
       "      <th>23</th>\n",
       "      <td>0</td>\n",
       "      <td>1</td>\n",
       "      <td>0</td>\n",
       "      <td>0</td>\n",
       "      <td>0</td>\n",
       "      <td>0</td>\n",
       "      <td>0</td>\n",
       "      <td>0</td>\n",
       "      <td>0</td>\n",
       "      <td>0</td>\n",
       "      <td>...</td>\n",
       "      <td>0</td>\n",
       "      <td>0</td>\n",
       "      <td>0</td>\n",
       "      <td>0</td>\n",
       "      <td>0</td>\n",
       "      <td>0</td>\n",
       "      <td>0</td>\n",
       "      <td>0</td>\n",
       "      <td>0</td>\n",
       "      <td>0</td>\n",
       "    </tr>\n",
       "    <tr>\n",
       "      <th>24</th>\n",
       "      <td>0</td>\n",
       "      <td>0</td>\n",
       "      <td>0</td>\n",
       "      <td>0</td>\n",
       "      <td>0</td>\n",
       "      <td>0</td>\n",
       "      <td>0</td>\n",
       "      <td>0</td>\n",
       "      <td>0</td>\n",
       "      <td>0</td>\n",
       "      <td>...</td>\n",
       "      <td>0</td>\n",
       "      <td>0</td>\n",
       "      <td>0</td>\n",
       "      <td>0</td>\n",
       "      <td>1</td>\n",
       "      <td>0</td>\n",
       "      <td>0</td>\n",
       "      <td>0</td>\n",
       "      <td>0</td>\n",
       "      <td>0</td>\n",
       "    </tr>\n",
       "    <tr>\n",
       "      <th>25</th>\n",
       "      <td>0</td>\n",
       "      <td>0</td>\n",
       "      <td>0</td>\n",
       "      <td>0</td>\n",
       "      <td>0</td>\n",
       "      <td>0</td>\n",
       "      <td>0</td>\n",
       "      <td>0</td>\n",
       "      <td>1</td>\n",
       "      <td>0</td>\n",
       "      <td>...</td>\n",
       "      <td>0</td>\n",
       "      <td>0</td>\n",
       "      <td>0</td>\n",
       "      <td>0</td>\n",
       "      <td>0</td>\n",
       "      <td>0</td>\n",
       "      <td>0</td>\n",
       "      <td>0</td>\n",
       "      <td>0</td>\n",
       "      <td>0</td>\n",
       "    </tr>\n",
       "    <tr>\n",
       "      <th>26</th>\n",
       "      <td>0</td>\n",
       "      <td>0</td>\n",
       "      <td>0</td>\n",
       "      <td>0</td>\n",
       "      <td>0</td>\n",
       "      <td>0</td>\n",
       "      <td>0</td>\n",
       "      <td>0</td>\n",
       "      <td>0</td>\n",
       "      <td>0</td>\n",
       "      <td>...</td>\n",
       "      <td>0</td>\n",
       "      <td>0</td>\n",
       "      <td>0</td>\n",
       "      <td>0</td>\n",
       "      <td>0</td>\n",
       "      <td>1</td>\n",
       "      <td>0</td>\n",
       "      <td>0</td>\n",
       "      <td>0</td>\n",
       "      <td>0</td>\n",
       "    </tr>\n",
       "    <tr>\n",
       "      <th>27</th>\n",
       "      <td>0</td>\n",
       "      <td>0</td>\n",
       "      <td>0</td>\n",
       "      <td>0</td>\n",
       "      <td>0</td>\n",
       "      <td>0</td>\n",
       "      <td>0</td>\n",
       "      <td>0</td>\n",
       "      <td>0</td>\n",
       "      <td>0</td>\n",
       "      <td>...</td>\n",
       "      <td>0</td>\n",
       "      <td>0</td>\n",
       "      <td>0</td>\n",
       "      <td>0</td>\n",
       "      <td>0</td>\n",
       "      <td>0</td>\n",
       "      <td>0</td>\n",
       "      <td>0</td>\n",
       "      <td>0</td>\n",
       "      <td>0</td>\n",
       "    </tr>\n",
       "    <tr>\n",
       "      <th>28</th>\n",
       "      <td>0</td>\n",
       "      <td>0</td>\n",
       "      <td>0</td>\n",
       "      <td>0</td>\n",
       "      <td>0</td>\n",
       "      <td>0</td>\n",
       "      <td>0</td>\n",
       "      <td>0</td>\n",
       "      <td>0</td>\n",
       "      <td>1</td>\n",
       "      <td>...</td>\n",
       "      <td>0</td>\n",
       "      <td>0</td>\n",
       "      <td>0</td>\n",
       "      <td>0</td>\n",
       "      <td>0</td>\n",
       "      <td>0</td>\n",
       "      <td>0</td>\n",
       "      <td>0</td>\n",
       "      <td>0</td>\n",
       "      <td>0</td>\n",
       "    </tr>\n",
       "    <tr>\n",
       "      <th>29</th>\n",
       "      <td>0</td>\n",
       "      <td>0</td>\n",
       "      <td>0</td>\n",
       "      <td>0</td>\n",
       "      <td>0</td>\n",
       "      <td>0</td>\n",
       "      <td>1</td>\n",
       "      <td>0</td>\n",
       "      <td>0</td>\n",
       "      <td>0</td>\n",
       "      <td>...</td>\n",
       "      <td>0</td>\n",
       "      <td>0</td>\n",
       "      <td>0</td>\n",
       "      <td>0</td>\n",
       "      <td>0</td>\n",
       "      <td>0</td>\n",
       "      <td>0</td>\n",
       "      <td>0</td>\n",
       "      <td>0</td>\n",
       "      <td>0</td>\n",
       "    </tr>\n",
       "    <tr>\n",
       "      <th>30</th>\n",
       "      <td>0</td>\n",
       "      <td>0</td>\n",
       "      <td>0</td>\n",
       "      <td>0</td>\n",
       "      <td>0</td>\n",
       "      <td>0</td>\n",
       "      <td>0</td>\n",
       "      <td>0</td>\n",
       "      <td>0</td>\n",
       "      <td>0</td>\n",
       "      <td>...</td>\n",
       "      <td>0</td>\n",
       "      <td>0</td>\n",
       "      <td>0</td>\n",
       "      <td>0</td>\n",
       "      <td>0</td>\n",
       "      <td>0</td>\n",
       "      <td>0</td>\n",
       "      <td>0</td>\n",
       "      <td>0</td>\n",
       "      <td>0</td>\n",
       "    </tr>\n",
       "    <tr>\n",
       "      <th>31</th>\n",
       "      <td>0</td>\n",
       "      <td>0</td>\n",
       "      <td>0</td>\n",
       "      <td>0</td>\n",
       "      <td>0</td>\n",
       "      <td>0</td>\n",
       "      <td>0</td>\n",
       "      <td>0</td>\n",
       "      <td>0</td>\n",
       "      <td>0</td>\n",
       "      <td>...</td>\n",
       "      <td>0</td>\n",
       "      <td>0</td>\n",
       "      <td>0</td>\n",
       "      <td>0</td>\n",
       "      <td>0</td>\n",
       "      <td>0</td>\n",
       "      <td>0</td>\n",
       "      <td>0</td>\n",
       "      <td>0</td>\n",
       "      <td>1</td>\n",
       "    </tr>\n",
       "  </tbody>\n",
       "</table>\n",
       "<p>32 rows × 31 columns</p>\n",
       "</div>"
      ],
      "text/plain": [
       "    Cadillac Fleetwood  Camaro Z28  Chrysler Imperial  Datsun 710  \\\n",
       "0                    0           0                  0           0   \n",
       "1                    0           0                  0           0   \n",
       "2                    0           0                  0           1   \n",
       "3                    0           0                  0           0   \n",
       "4                    0           0                  0           0   \n",
       "5                    0           0                  0           0   \n",
       "6                    0           0                  0           0   \n",
       "7                    0           0                  0           0   \n",
       "8                    0           0                  0           0   \n",
       "9                    0           0                  0           0   \n",
       "10                   0           0                  0           0   \n",
       "11                   0           0                  0           0   \n",
       "12                   0           0                  0           0   \n",
       "13                   0           0                  0           0   \n",
       "14                   1           0                  0           0   \n",
       "15                   0           0                  0           0   \n",
       "16                   0           0                  1           0   \n",
       "17                   0           0                  0           0   \n",
       "18                   0           0                  0           0   \n",
       "19                   0           0                  0           0   \n",
       "20                   0           0                  0           0   \n",
       "21                   0           0                  0           0   \n",
       "22                   0           0                  0           0   \n",
       "23                   0           1                  0           0   \n",
       "24                   0           0                  0           0   \n",
       "25                   0           0                  0           0   \n",
       "26                   0           0                  0           0   \n",
       "27                   0           0                  0           0   \n",
       "28                   0           0                  0           0   \n",
       "29                   0           0                  0           0   \n",
       "30                   0           0                  0           0   \n",
       "31                   0           0                  0           0   \n",
       "\n",
       "    Dodge Challenger  Duster 360  Ferrari Dino  Fiat 128  Fiat X1-9  \\\n",
       "0                  0           0             0         0          0   \n",
       "1                  0           0             0         0          0   \n",
       "2                  0           0             0         0          0   \n",
       "3                  0           0             0         0          0   \n",
       "4                  0           0             0         0          0   \n",
       "5                  0           0             0         0          0   \n",
       "6                  0           1             0         0          0   \n",
       "7                  0           0             0         0          0   \n",
       "8                  0           0             0         0          0   \n",
       "9                  0           0             0         0          0   \n",
       "10                 0           0             0         0          0   \n",
       "11                 0           0             0         0          0   \n",
       "12                 0           0             0         0          0   \n",
       "13                 0           0             0         0          0   \n",
       "14                 0           0             0         0          0   \n",
       "15                 0           0             0         0          0   \n",
       "16                 0           0             0         0          0   \n",
       "17                 0           0             0         1          0   \n",
       "18                 0           0             0         0          0   \n",
       "19                 0           0             0         0          0   \n",
       "20                 0           0             0         0          0   \n",
       "21                 1           0             0         0          0   \n",
       "22                 0           0             0         0          0   \n",
       "23                 0           0             0         0          0   \n",
       "24                 0           0             0         0          0   \n",
       "25                 0           0             0         0          1   \n",
       "26                 0           0             0         0          0   \n",
       "27                 0           0             0         0          0   \n",
       "28                 0           0             0         0          0   \n",
       "29                 0           0             1         0          0   \n",
       "30                 0           0             0         0          0   \n",
       "31                 0           0             0         0          0   \n",
       "\n",
       "    Ford Pantera L  ...  Merc 280C  Merc 450SE  Merc 450SL  Merc 450SLC  \\\n",
       "0                0  ...          0           0           0            0   \n",
       "1                0  ...          0           0           0            0   \n",
       "2                0  ...          0           0           0            0   \n",
       "3                0  ...          0           0           0            0   \n",
       "4                0  ...          0           0           0            0   \n",
       "5                0  ...          0           0           0            0   \n",
       "6                0  ...          0           0           0            0   \n",
       "7                0  ...          0           0           0            0   \n",
       "8                0  ...          0           0           0            0   \n",
       "9                0  ...          0           0           0            0   \n",
       "10               0  ...          1           0           0            0   \n",
       "11               0  ...          0           1           0            0   \n",
       "12               0  ...          0           0           1            0   \n",
       "13               0  ...          0           0           0            1   \n",
       "14               0  ...          0           0           0            0   \n",
       "15               0  ...          0           0           0            0   \n",
       "16               0  ...          0           0           0            0   \n",
       "17               0  ...          0           0           0            0   \n",
       "18               0  ...          0           0           0            0   \n",
       "19               0  ...          0           0           0            0   \n",
       "20               0  ...          0           0           0            0   \n",
       "21               0  ...          0           0           0            0   \n",
       "22               0  ...          0           0           0            0   \n",
       "23               0  ...          0           0           0            0   \n",
       "24               0  ...          0           0           0            0   \n",
       "25               0  ...          0           0           0            0   \n",
       "26               0  ...          0           0           0            0   \n",
       "27               0  ...          0           0           0            0   \n",
       "28               1  ...          0           0           0            0   \n",
       "29               0  ...          0           0           0            0   \n",
       "30               0  ...          0           0           0            0   \n",
       "31               0  ...          0           0           0            0   \n",
       "\n",
       "    Pontiac Firebird  Porsche 914-2  Toyota Corolla  Toyota Corona  Valiant  \\\n",
       "0                  0              0               0              0        0   \n",
       "1                  0              0               0              0        0   \n",
       "2                  0              0               0              0        0   \n",
       "3                  0              0               0              0        0   \n",
       "4                  0              0               0              0        0   \n",
       "5                  0              0               0              0        1   \n",
       "6                  0              0               0              0        0   \n",
       "7                  0              0               0              0        0   \n",
       "8                  0              0               0              0        0   \n",
       "9                  0              0               0              0        0   \n",
       "10                 0              0               0              0        0   \n",
       "11                 0              0               0              0        0   \n",
       "12                 0              0               0              0        0   \n",
       "13                 0              0               0              0        0   \n",
       "14                 0              0               0              0        0   \n",
       "15                 0              0               0              0        0   \n",
       "16                 0              0               0              0        0   \n",
       "17                 0              0               0              0        0   \n",
       "18                 0              0               0              0        0   \n",
       "19                 0              0               1              0        0   \n",
       "20                 0              0               0              1        0   \n",
       "21                 0              0               0              0        0   \n",
       "22                 0              0               0              0        0   \n",
       "23                 0              0               0              0        0   \n",
       "24                 1              0               0              0        0   \n",
       "25                 0              0               0              0        0   \n",
       "26                 0              1               0              0        0   \n",
       "27                 0              0               0              0        0   \n",
       "28                 0              0               0              0        0   \n",
       "29                 0              0               0              0        0   \n",
       "30                 0              0               0              0        0   \n",
       "31                 0              0               0              0        0   \n",
       "\n",
       "    Volvo 142E  \n",
       "0            0  \n",
       "1            0  \n",
       "2            0  \n",
       "3            0  \n",
       "4            0  \n",
       "5            0  \n",
       "6            0  \n",
       "7            0  \n",
       "8            0  \n",
       "9            0  \n",
       "10           0  \n",
       "11           0  \n",
       "12           0  \n",
       "13           0  \n",
       "14           0  \n",
       "15           0  \n",
       "16           0  \n",
       "17           0  \n",
       "18           0  \n",
       "19           0  \n",
       "20           0  \n",
       "21           0  \n",
       "22           0  \n",
       "23           0  \n",
       "24           0  \n",
       "25           0  \n",
       "26           0  \n",
       "27           0  \n",
       "28           0  \n",
       "29           0  \n",
       "30           0  \n",
       "31           1  \n",
       "\n",
       "[32 rows x 31 columns]"
      ]
     },
     "execution_count": 131,
     "metadata": {},
     "output_type": "execute_result"
    }
   ],
   "source": [
    "df_get_dummies"
   ]
  },
  {
   "cell_type": "markdown",
   "id": "3dd77c71",
   "metadata": {},
   "source": [
    "# Concatenation"
   ]
  },
  {
   "cell_type": "code",
   "execution_count": 134,
   "id": "3089af06",
   "metadata": {},
   "outputs": [],
   "source": [
    "final = dfcat2 = pd.concat([df,df_get_dummies],axis=1).drop (columns = ['name'])"
   ]
  },
  {
   "cell_type": "code",
   "execution_count": 135,
   "id": "35969c50",
   "metadata": {},
   "outputs": [
    {
     "data": {
      "text/html": [
       "<div>\n",
       "<style scoped>\n",
       "    .dataframe tbody tr th:only-of-type {\n",
       "        vertical-align: middle;\n",
       "    }\n",
       "\n",
       "    .dataframe tbody tr th {\n",
       "        vertical-align: top;\n",
       "    }\n",
       "\n",
       "    .dataframe thead th {\n",
       "        text-align: right;\n",
       "    }\n",
       "</style>\n",
       "<table border=\"1\" class=\"dataframe\">\n",
       "  <thead>\n",
       "    <tr style=\"text-align: right;\">\n",
       "      <th></th>\n",
       "      <th>mpg</th>\n",
       "      <th>cyl</th>\n",
       "      <th>disp</th>\n",
       "      <th>hp</th>\n",
       "      <th>drat</th>\n",
       "      <th>wt</th>\n",
       "      <th>qsec</th>\n",
       "      <th>vs</th>\n",
       "      <th>am</th>\n",
       "      <th>gear</th>\n",
       "      <th>...</th>\n",
       "      <th>Merc 280C</th>\n",
       "      <th>Merc 450SE</th>\n",
       "      <th>Merc 450SL</th>\n",
       "      <th>Merc 450SLC</th>\n",
       "      <th>Pontiac Firebird</th>\n",
       "      <th>Porsche 914-2</th>\n",
       "      <th>Toyota Corolla</th>\n",
       "      <th>Toyota Corona</th>\n",
       "      <th>Valiant</th>\n",
       "      <th>Volvo 142E</th>\n",
       "    </tr>\n",
       "  </thead>\n",
       "  <tbody>\n",
       "    <tr>\n",
       "      <th>0</th>\n",
       "      <td>0.292935</td>\n",
       "      <td>6</td>\n",
       "      <td>160.0</td>\n",
       "      <td>-0.406998</td>\n",
       "      <td>3.90</td>\n",
       "      <td>-0.569745</td>\n",
       "      <td>-0.774404</td>\n",
       "      <td>0</td>\n",
       "      <td>1</td>\n",
       "      <td>4</td>\n",
       "      <td>...</td>\n",
       "      <td>0</td>\n",
       "      <td>0</td>\n",
       "      <td>0</td>\n",
       "      <td>0</td>\n",
       "      <td>0</td>\n",
       "      <td>0</td>\n",
       "      <td>0</td>\n",
       "      <td>0</td>\n",
       "      <td>0</td>\n",
       "      <td>0</td>\n",
       "    </tr>\n",
       "    <tr>\n",
       "      <th>1</th>\n",
       "      <td>0.292935</td>\n",
       "      <td>6</td>\n",
       "      <td>160.0</td>\n",
       "      <td>-0.406998</td>\n",
       "      <td>3.90</td>\n",
       "      <td>-0.283616</td>\n",
       "      <td>-0.429244</td>\n",
       "      <td>0</td>\n",
       "      <td>1</td>\n",
       "      <td>4</td>\n",
       "      <td>...</td>\n",
       "      <td>0</td>\n",
       "      <td>0</td>\n",
       "      <td>0</td>\n",
       "      <td>0</td>\n",
       "      <td>0</td>\n",
       "      <td>0</td>\n",
       "      <td>0</td>\n",
       "      <td>0</td>\n",
       "      <td>0</td>\n",
       "      <td>0</td>\n",
       "    </tr>\n",
       "    <tr>\n",
       "      <th>2</th>\n",
       "      <td>0.574610</td>\n",
       "      <td>4</td>\n",
       "      <td>108.0</td>\n",
       "      <td>-0.757411</td>\n",
       "      <td>3.85</td>\n",
       "      <td>-0.925952</td>\n",
       "      <td>0.482194</td>\n",
       "      <td>1</td>\n",
       "      <td>1</td>\n",
       "      <td>4</td>\n",
       "      <td>...</td>\n",
       "      <td>0</td>\n",
       "      <td>0</td>\n",
       "      <td>0</td>\n",
       "      <td>0</td>\n",
       "      <td>0</td>\n",
       "      <td>0</td>\n",
       "      <td>0</td>\n",
       "      <td>0</td>\n",
       "      <td>0</td>\n",
       "      <td>0</td>\n",
       "    </tr>\n",
       "    <tr>\n",
       "      <th>3</th>\n",
       "      <td>0.357501</td>\n",
       "      <td>6</td>\n",
       "      <td>258.0</td>\n",
       "      <td>-0.406998</td>\n",
       "      <td>3.08</td>\n",
       "      <td>0.077733</td>\n",
       "      <td>0.922273</td>\n",
       "      <td>1</td>\n",
       "      <td>0</td>\n",
       "      <td>3</td>\n",
       "      <td>...</td>\n",
       "      <td>0</td>\n",
       "      <td>0</td>\n",
       "      <td>0</td>\n",
       "      <td>0</td>\n",
       "      <td>0</td>\n",
       "      <td>0</td>\n",
       "      <td>0</td>\n",
       "      <td>0</td>\n",
       "      <td>0</td>\n",
       "      <td>0</td>\n",
       "    </tr>\n",
       "    <tr>\n",
       "      <th>4</th>\n",
       "      <td>-0.103212</td>\n",
       "      <td>8</td>\n",
       "      <td>360.0</td>\n",
       "      <td>0.591461</td>\n",
       "      <td>3.15</td>\n",
       "      <td>0.305833</td>\n",
       "      <td>-0.429244</td>\n",
       "      <td>0</td>\n",
       "      <td>0</td>\n",
       "      <td>3</td>\n",
       "      <td>...</td>\n",
       "      <td>0</td>\n",
       "      <td>0</td>\n",
       "      <td>0</td>\n",
       "      <td>0</td>\n",
       "      <td>0</td>\n",
       "      <td>0</td>\n",
       "      <td>0</td>\n",
       "      <td>0</td>\n",
       "      <td>0</td>\n",
       "      <td>0</td>\n",
       "    </tr>\n",
       "    <tr>\n",
       "      <th>5</th>\n",
       "      <td>-0.214339</td>\n",
       "      <td>6</td>\n",
       "      <td>225.0</td>\n",
       "      <td>-0.504653</td>\n",
       "      <td>2.76</td>\n",
       "      <td>0.325721</td>\n",
       "      <td>1.316135</td>\n",
       "      <td>1</td>\n",
       "      <td>0</td>\n",
       "      <td>3</td>\n",
       "      <td>...</td>\n",
       "      <td>0</td>\n",
       "      <td>0</td>\n",
       "      <td>0</td>\n",
       "      <td>0</td>\n",
       "      <td>0</td>\n",
       "      <td>0</td>\n",
       "      <td>0</td>\n",
       "      <td>0</td>\n",
       "      <td>1</td>\n",
       "      <td>0</td>\n",
       "    </tr>\n",
       "    <tr>\n",
       "      <th>6</th>\n",
       "      <td>-1.014170</td>\n",
       "      <td>8</td>\n",
       "      <td>360.0</td>\n",
       "      <td>1.342775</td>\n",
       "      <td>3.21</td>\n",
       "      <td>0.434035</td>\n",
       "      <td>-1.173048</td>\n",
       "      <td>0</td>\n",
       "      <td>0</td>\n",
       "      <td>3</td>\n",
       "      <td>...</td>\n",
       "      <td>0</td>\n",
       "      <td>0</td>\n",
       "      <td>0</td>\n",
       "      <td>0</td>\n",
       "      <td>0</td>\n",
       "      <td>0</td>\n",
       "      <td>0</td>\n",
       "      <td>0</td>\n",
       "      <td>0</td>\n",
       "      <td>0</td>\n",
       "    </tr>\n",
       "    <tr>\n",
       "      <th>7</th>\n",
       "      <td>0.807426</td>\n",
       "      <td>4</td>\n",
       "      <td>146.7</td>\n",
       "      <td>-1.581244</td>\n",
       "      <td>3.69</td>\n",
       "      <td>0.051874</td>\n",
       "      <td>1.206881</td>\n",
       "      <td>1</td>\n",
       "      <td>0</td>\n",
       "      <td>4</td>\n",
       "      <td>...</td>\n",
       "      <td>0</td>\n",
       "      <td>0</td>\n",
       "      <td>0</td>\n",
       "      <td>0</td>\n",
       "      <td>0</td>\n",
       "      <td>0</td>\n",
       "      <td>0</td>\n",
       "      <td>0</td>\n",
       "      <td>0</td>\n",
       "      <td>0</td>\n",
       "    </tr>\n",
       "    <tr>\n",
       "      <th>8</th>\n",
       "      <td>0.574610</td>\n",
       "      <td>4</td>\n",
       "      <td>140.8</td>\n",
       "      <td>-0.713305</td>\n",
       "      <td>3.92</td>\n",
       "      <td>0.010275</td>\n",
       "      <td>2.544327</td>\n",
       "      <td>1</td>\n",
       "      <td>0</td>\n",
       "      <td>4</td>\n",
       "      <td>...</td>\n",
       "      <td>0</td>\n",
       "      <td>0</td>\n",
       "      <td>0</td>\n",
       "      <td>0</td>\n",
       "      <td>0</td>\n",
       "      <td>0</td>\n",
       "      <td>0</td>\n",
       "      <td>0</td>\n",
       "      <td>0</td>\n",
       "      <td>0</td>\n",
       "    </tr>\n",
       "    <tr>\n",
       "      <th>9</th>\n",
       "      <td>-0.013218</td>\n",
       "      <td>6</td>\n",
       "      <td>167.6</td>\n",
       "      <td>-0.170756</td>\n",
       "      <td>3.92</td>\n",
       "      <td>0.305833</td>\n",
       "      <td>0.311865</td>\n",
       "      <td>1</td>\n",
       "      <td>0</td>\n",
       "      <td>4</td>\n",
       "      <td>...</td>\n",
       "      <td>0</td>\n",
       "      <td>0</td>\n",
       "      <td>0</td>\n",
       "      <td>0</td>\n",
       "      <td>0</td>\n",
       "      <td>0</td>\n",
       "      <td>0</td>\n",
       "      <td>0</td>\n",
       "      <td>0</td>\n",
       "      <td>0</td>\n",
       "    </tr>\n",
       "    <tr>\n",
       "      <th>10</th>\n",
       "      <td>-0.271250</td>\n",
       "      <td>6</td>\n",
       "      <td>167.6</td>\n",
       "      <td>-0.170756</td>\n",
       "      <td>3.92</td>\n",
       "      <td>0.305833</td>\n",
       "      <td>0.638538</td>\n",
       "      <td>1</td>\n",
       "      <td>0</td>\n",
       "      <td>4</td>\n",
       "      <td>...</td>\n",
       "      <td>1</td>\n",
       "      <td>0</td>\n",
       "      <td>0</td>\n",
       "      <td>0</td>\n",
       "      <td>0</td>\n",
       "      <td>0</td>\n",
       "      <td>0</td>\n",
       "      <td>0</td>\n",
       "      <td>0</td>\n",
       "      <td>0</td>\n",
       "    </tr>\n",
       "    <tr>\n",
       "      <th>11</th>\n",
       "      <td>-0.549781</td>\n",
       "      <td>8</td>\n",
       "      <td>275.8</td>\n",
       "      <td>0.653456</td>\n",
       "      <td>3.07</td>\n",
       "      <td>0.905418</td>\n",
       "      <td>-0.202555</td>\n",
       "      <td>0</td>\n",
       "      <td>0</td>\n",
       "      <td>3</td>\n",
       "      <td>...</td>\n",
       "      <td>0</td>\n",
       "      <td>1</td>\n",
       "      <td>0</td>\n",
       "      <td>0</td>\n",
       "      <td>0</td>\n",
       "      <td>0</td>\n",
       "      <td>0</td>\n",
       "      <td>0</td>\n",
       "      <td>0</td>\n",
       "      <td>0</td>\n",
       "    </tr>\n",
       "    <tr>\n",
       "      <th>12</th>\n",
       "      <td>-0.368203</td>\n",
       "      <td>8</td>\n",
       "      <td>275.8</td>\n",
       "      <td>0.653456</td>\n",
       "      <td>3.07</td>\n",
       "      <td>0.588476</td>\n",
       "      <td>-0.085573</td>\n",
       "      <td>0</td>\n",
       "      <td>0</td>\n",
       "      <td>3</td>\n",
       "      <td>...</td>\n",
       "      <td>0</td>\n",
       "      <td>0</td>\n",
       "      <td>1</td>\n",
       "      <td>0</td>\n",
       "      <td>0</td>\n",
       "      <td>0</td>\n",
       "      <td>0</td>\n",
       "      <td>0</td>\n",
       "      <td>0</td>\n",
       "      <td>0</td>\n",
       "    </tr>\n",
       "    <tr>\n",
       "      <th>13</th>\n",
       "      <td>-0.807542</td>\n",
       "      <td>8</td>\n",
       "      <td>275.8</td>\n",
       "      <td>0.653456</td>\n",
       "      <td>3.07</td>\n",
       "      <td>0.636017</td>\n",
       "      <td>0.143764</td>\n",
       "      <td>0</td>\n",
       "      <td>0</td>\n",
       "      <td>3</td>\n",
       "      <td>...</td>\n",
       "      <td>0</td>\n",
       "      <td>0</td>\n",
       "      <td>0</td>\n",
       "      <td>1</td>\n",
       "      <td>0</td>\n",
       "      <td>0</td>\n",
       "      <td>0</td>\n",
       "      <td>0</td>\n",
       "      <td>0</td>\n",
       "      <td>0</td>\n",
       "    </tr>\n",
       "    <tr>\n",
       "      <th>14</th>\n",
       "      <td>-2.086223</td>\n",
       "      <td>8</td>\n",
       "      <td>472.0</td>\n",
       "      <td>0.941800</td>\n",
       "      <td>2.93</td>\n",
       "      <td>1.908410</td>\n",
       "      <td>0.132440</td>\n",
       "      <td>0</td>\n",
       "      <td>0</td>\n",
       "      <td>3</td>\n",
       "      <td>...</td>\n",
       "      <td>0</td>\n",
       "      <td>0</td>\n",
       "      <td>0</td>\n",
       "      <td>0</td>\n",
       "      <td>0</td>\n",
       "      <td>0</td>\n",
       "      <td>0</td>\n",
       "      <td>0</td>\n",
       "      <td>0</td>\n",
       "      <td>0</td>\n",
       "    </tr>\n",
       "    <tr>\n",
       "      <th>15</th>\n",
       "      <td>-2.086223</td>\n",
       "      <td>8</td>\n",
       "      <td>460.0</td>\n",
       "      <td>1.048283</td>\n",
       "      <td>3.00</td>\n",
       "      <td>2.045770</td>\n",
       "      <td>0.041312</td>\n",
       "      <td>0</td>\n",
       "      <td>0</td>\n",
       "      <td>3</td>\n",
       "      <td>...</td>\n",
       "      <td>0</td>\n",
       "      <td>0</td>\n",
       "      <td>0</td>\n",
       "      <td>0</td>\n",
       "      <td>0</td>\n",
       "      <td>0</td>\n",
       "      <td>0</td>\n",
       "      <td>0</td>\n",
       "      <td>0</td>\n",
       "      <td>0</td>\n",
       "    </tr>\n",
       "    <tr>\n",
       "      <th>16</th>\n",
       "      <td>-0.920821</td>\n",
       "      <td>8</td>\n",
       "      <td>440.0</td>\n",
       "      <td>1.199882</td>\n",
       "      <td>3.23</td>\n",
       "      <td>1.983699</td>\n",
       "      <td>-0.190785</td>\n",
       "      <td>0</td>\n",
       "      <td>0</td>\n",
       "      <td>3</td>\n",
       "      <td>...</td>\n",
       "      <td>0</td>\n",
       "      <td>0</td>\n",
       "      <td>0</td>\n",
       "      <td>0</td>\n",
       "      <td>0</td>\n",
       "      <td>0</td>\n",
       "      <td>0</td>\n",
       "      <td>0</td>\n",
       "      <td>0</td>\n",
       "      <td>0</td>\n",
       "    </tr>\n",
       "    <tr>\n",
       "      <th>17</th>\n",
       "      <td>1.785932</td>\n",
       "      <td>4</td>\n",
       "      <td>78.7</td>\n",
       "      <td>-1.456255</td>\n",
       "      <td>4.08</td>\n",
       "      <td>-1.075234</td>\n",
       "      <td>0.937764</td>\n",
       "      <td>1</td>\n",
       "      <td>1</td>\n",
       "      <td>4</td>\n",
       "      <td>...</td>\n",
       "      <td>0</td>\n",
       "      <td>0</td>\n",
       "      <td>0</td>\n",
       "      <td>0</td>\n",
       "      <td>0</td>\n",
       "      <td>0</td>\n",
       "      <td>0</td>\n",
       "      <td>0</td>\n",
       "      <td>0</td>\n",
       "      <td>0</td>\n",
       "    </tr>\n",
       "    <tr>\n",
       "      <th>18</th>\n",
       "      <td>1.565359</td>\n",
       "      <td>4</td>\n",
       "      <td>75.7</td>\n",
       "      <td>-1.928963</td>\n",
       "      <td>4.93</td>\n",
       "      <td>-1.873787</td>\n",
       "      <td>0.433090</td>\n",
       "      <td>1</td>\n",
       "      <td>1</td>\n",
       "      <td>4</td>\n",
       "      <td>...</td>\n",
       "      <td>0</td>\n",
       "      <td>0</td>\n",
       "      <td>0</td>\n",
       "      <td>0</td>\n",
       "      <td>0</td>\n",
       "      <td>0</td>\n",
       "      <td>0</td>\n",
       "      <td>0</td>\n",
       "      <td>0</td>\n",
       "      <td>0</td>\n",
       "    </tr>\n",
       "    <tr>\n",
       "      <th>19</th>\n",
       "      <td>1.942855</td>\n",
       "      <td>4</td>\n",
       "      <td>71.1</td>\n",
       "      <td>-1.486845</td>\n",
       "      <td>4.22</td>\n",
       "      <td>-1.557899</td>\n",
       "      <td>1.156751</td>\n",
       "      <td>1</td>\n",
       "      <td>1</td>\n",
       "      <td>4</td>\n",
       "      <td>...</td>\n",
       "      <td>0</td>\n",
       "      <td>0</td>\n",
       "      <td>0</td>\n",
       "      <td>0</td>\n",
       "      <td>0</td>\n",
       "      <td>0</td>\n",
       "      <td>1</td>\n",
       "      <td>0</td>\n",
       "      <td>0</td>\n",
       "      <td>0</td>\n",
       "    </tr>\n",
       "    <tr>\n",
       "      <th>20</th>\n",
       "      <td>0.373460</td>\n",
       "      <td>4</td>\n",
       "      <td>120.1</td>\n",
       "      <td>-0.670033</td>\n",
       "      <td>3.70</td>\n",
       "      <td>-0.750921</td>\n",
       "      <td>1.211877</td>\n",
       "      <td>1</td>\n",
       "      <td>0</td>\n",
       "      <td>3</td>\n",
       "      <td>...</td>\n",
       "      <td>0</td>\n",
       "      <td>0</td>\n",
       "      <td>0</td>\n",
       "      <td>0</td>\n",
       "      <td>0</td>\n",
       "      <td>0</td>\n",
       "      <td>0</td>\n",
       "      <td>1</td>\n",
       "      <td>0</td>\n",
       "      <td>0</td>\n",
       "    </tr>\n",
       "    <tr>\n",
       "      <th>21</th>\n",
       "      <td>-0.741297</td>\n",
       "      <td>8</td>\n",
       "      <td>318.0</td>\n",
       "      <td>0.255121</td>\n",
       "      <td>2.76</td>\n",
       "      <td>0.385024</td>\n",
       "      <td>-0.520372</td>\n",
       "      <td>0</td>\n",
       "      <td>0</td>\n",
       "      <td>3</td>\n",
       "      <td>...</td>\n",
       "      <td>0</td>\n",
       "      <td>0</td>\n",
       "      <td>0</td>\n",
       "      <td>0</td>\n",
       "      <td>0</td>\n",
       "      <td>0</td>\n",
       "      <td>0</td>\n",
       "      <td>0</td>\n",
       "      <td>0</td>\n",
       "      <td>0</td>\n",
       "    </tr>\n",
       "    <tr>\n",
       "      <th>22</th>\n",
       "      <td>-0.807542</td>\n",
       "      <td>8</td>\n",
       "      <td>304.0</td>\n",
       "      <td>0.255121</td>\n",
       "      <td>3.15</td>\n",
       "      <td>0.300851</td>\n",
       "      <td>-0.261641</td>\n",
       "      <td>0</td>\n",
       "      <td>0</td>\n",
       "      <td>3</td>\n",
       "      <td>...</td>\n",
       "      <td>0</td>\n",
       "      <td>0</td>\n",
       "      <td>0</td>\n",
       "      <td>0</td>\n",
       "      <td>0</td>\n",
       "      <td>0</td>\n",
       "      <td>0</td>\n",
       "      <td>0</td>\n",
       "      <td>0</td>\n",
       "      <td>0</td>\n",
       "    </tr>\n",
       "    <tr>\n",
       "      <th>23</th>\n",
       "      <td>-1.259109</td>\n",
       "      <td>8</td>\n",
       "      <td>350.0</td>\n",
       "      <td>1.342775</td>\n",
       "      <td>3.73</td>\n",
       "      <td>0.692629</td>\n",
       "      <td>-1.460472</td>\n",
       "      <td>0</td>\n",
       "      <td>0</td>\n",
       "      <td>3</td>\n",
       "      <td>...</td>\n",
       "      <td>0</td>\n",
       "      <td>0</td>\n",
       "      <td>0</td>\n",
       "      <td>0</td>\n",
       "      <td>0</td>\n",
       "      <td>0</td>\n",
       "      <td>0</td>\n",
       "      <td>0</td>\n",
       "      <td>0</td>\n",
       "      <td>0</td>\n",
       "    </tr>\n",
       "    <tr>\n",
       "      <th>24</th>\n",
       "      <td>-0.013218</td>\n",
       "      <td>8</td>\n",
       "      <td>400.0</td>\n",
       "      <td>0.591461</td>\n",
       "      <td>3.08</td>\n",
       "      <td>0.697326</td>\n",
       "      <td>-0.411132</td>\n",
       "      <td>0</td>\n",
       "      <td>0</td>\n",
       "      <td>3</td>\n",
       "      <td>...</td>\n",
       "      <td>0</td>\n",
       "      <td>0</td>\n",
       "      <td>0</td>\n",
       "      <td>0</td>\n",
       "      <td>1</td>\n",
       "      <td>0</td>\n",
       "      <td>0</td>\n",
       "      <td>0</td>\n",
       "      <td>0</td>\n",
       "      <td>0</td>\n",
       "    </tr>\n",
       "    <tr>\n",
       "      <th>25</th>\n",
       "      <td>1.193960</td>\n",
       "      <td>4</td>\n",
       "      <td>79.0</td>\n",
       "      <td>-1.456255</td>\n",
       "      <td>4.08</td>\n",
       "      <td>-1.420961</td>\n",
       "      <td>0.638538</td>\n",
       "      <td>1</td>\n",
       "      <td>1</td>\n",
       "      <td>4</td>\n",
       "      <td>...</td>\n",
       "      <td>0</td>\n",
       "      <td>0</td>\n",
       "      <td>0</td>\n",
       "      <td>0</td>\n",
       "      <td>0</td>\n",
       "      <td>0</td>\n",
       "      <td>0</td>\n",
       "      <td>0</td>\n",
       "      <td>0</td>\n",
       "      <td>0</td>\n",
       "    </tr>\n",
       "    <tr>\n",
       "      <th>26</th>\n",
       "      <td>1.025873</td>\n",
       "      <td>4</td>\n",
       "      <td>120.3</td>\n",
       "      <td>-0.802385</td>\n",
       "      <td>4.43</td>\n",
       "      <td>-1.151492</td>\n",
       "      <td>-0.624811</td>\n",
       "      <td>0</td>\n",
       "      <td>1</td>\n",
       "      <td>5</td>\n",
       "      <td>...</td>\n",
       "      <td>0</td>\n",
       "      <td>0</td>\n",
       "      <td>0</td>\n",
       "      <td>0</td>\n",
       "      <td>0</td>\n",
       "      <td>1</td>\n",
       "      <td>0</td>\n",
       "      <td>0</td>\n",
       "      <td>0</td>\n",
       "      <td>0</td>\n",
       "    </tr>\n",
       "    <tr>\n",
       "      <th>27</th>\n",
       "      <td>1.565359</td>\n",
       "      <td>4</td>\n",
       "      <td>95.1</td>\n",
       "      <td>-0.350319</td>\n",
       "      <td>3.77</td>\n",
       "      <td>-2.027975</td>\n",
       "      <td>-0.502070</td>\n",
       "      <td>1</td>\n",
       "      <td>1</td>\n",
       "      <td>5</td>\n",
       "      <td>...</td>\n",
       "      <td>0</td>\n",
       "      <td>0</td>\n",
       "      <td>0</td>\n",
       "      <td>0</td>\n",
       "      <td>0</td>\n",
       "      <td>0</td>\n",
       "      <td>0</td>\n",
       "      <td>0</td>\n",
       "      <td>0</td>\n",
       "      <td>0</td>\n",
       "    </tr>\n",
       "    <tr>\n",
       "      <th>28</th>\n",
       "      <td>-0.676286</td>\n",
       "      <td>8</td>\n",
       "      <td>351.0</td>\n",
       "      <td>1.512805</td>\n",
       "      <td>4.22</td>\n",
       "      <td>0.031109</td>\n",
       "      <td>-2.101151</td>\n",
       "      <td>0</td>\n",
       "      <td>1</td>\n",
       "      <td>5</td>\n",
       "      <td>...</td>\n",
       "      <td>0</td>\n",
       "      <td>0</td>\n",
       "      <td>0</td>\n",
       "      <td>0</td>\n",
       "      <td>0</td>\n",
       "      <td>0</td>\n",
       "      <td>0</td>\n",
       "      <td>0</td>\n",
       "      <td>0</td>\n",
       "      <td>0</td>\n",
       "    </tr>\n",
       "    <tr>\n",
       "      <th>29</th>\n",
       "      <td>0.074530</td>\n",
       "      <td>6</td>\n",
       "      <td>145.0</td>\n",
       "      <td>0.591461</td>\n",
       "      <td>3.62</td>\n",
       "      <td>-0.399738</td>\n",
       "      <td>-1.399539</td>\n",
       "      <td>0</td>\n",
       "      <td>1</td>\n",
       "      <td>5</td>\n",
       "      <td>...</td>\n",
       "      <td>0</td>\n",
       "      <td>0</td>\n",
       "      <td>0</td>\n",
       "      <td>0</td>\n",
       "      <td>0</td>\n",
       "      <td>0</td>\n",
       "      <td>0</td>\n",
       "      <td>0</td>\n",
       "      <td>0</td>\n",
       "      <td>0</td>\n",
       "    </tr>\n",
       "    <tr>\n",
       "      <th>30</th>\n",
       "      <td>-0.852413</td>\n",
       "      <td>8</td>\n",
       "      <td>301.0</td>\n",
       "      <td>2.063061</td>\n",
       "      <td>3.54</td>\n",
       "      <td>0.434035</td>\n",
       "      <td>-2.028463</td>\n",
       "      <td>0</td>\n",
       "      <td>1</td>\n",
       "      <td>5</td>\n",
       "      <td>...</td>\n",
       "      <td>0</td>\n",
       "      <td>0</td>\n",
       "      <td>0</td>\n",
       "      <td>0</td>\n",
       "      <td>0</td>\n",
       "      <td>0</td>\n",
       "      <td>0</td>\n",
       "      <td>0</td>\n",
       "      <td>0</td>\n",
       "      <td>0</td>\n",
       "    </tr>\n",
       "    <tr>\n",
       "      <th>31</th>\n",
       "      <td>0.357501</td>\n",
       "      <td>4</td>\n",
       "      <td>121.0</td>\n",
       "      <td>-0.426203</td>\n",
       "      <td>4.11</td>\n",
       "      <td>-0.388580</td>\n",
       "      <td>0.476752</td>\n",
       "      <td>1</td>\n",
       "      <td>1</td>\n",
       "      <td>4</td>\n",
       "      <td>...</td>\n",
       "      <td>0</td>\n",
       "      <td>0</td>\n",
       "      <td>0</td>\n",
       "      <td>0</td>\n",
       "      <td>0</td>\n",
       "      <td>0</td>\n",
       "      <td>0</td>\n",
       "      <td>0</td>\n",
       "      <td>0</td>\n",
       "      <td>1</td>\n",
       "    </tr>\n",
       "  </tbody>\n",
       "</table>\n",
       "<p>32 rows × 42 columns</p>\n",
       "</div>"
      ],
      "text/plain": [
       "         mpg  cyl   disp        hp  drat        wt      qsec  vs  am  gear  \\\n",
       "0   0.292935    6  160.0 -0.406998  3.90 -0.569745 -0.774404   0   1     4   \n",
       "1   0.292935    6  160.0 -0.406998  3.90 -0.283616 -0.429244   0   1     4   \n",
       "2   0.574610    4  108.0 -0.757411  3.85 -0.925952  0.482194   1   1     4   \n",
       "3   0.357501    6  258.0 -0.406998  3.08  0.077733  0.922273   1   0     3   \n",
       "4  -0.103212    8  360.0  0.591461  3.15  0.305833 -0.429244   0   0     3   \n",
       "5  -0.214339    6  225.0 -0.504653  2.76  0.325721  1.316135   1   0     3   \n",
       "6  -1.014170    8  360.0  1.342775  3.21  0.434035 -1.173048   0   0     3   \n",
       "7   0.807426    4  146.7 -1.581244  3.69  0.051874  1.206881   1   0     4   \n",
       "8   0.574610    4  140.8 -0.713305  3.92  0.010275  2.544327   1   0     4   \n",
       "9  -0.013218    6  167.6 -0.170756  3.92  0.305833  0.311865   1   0     4   \n",
       "10 -0.271250    6  167.6 -0.170756  3.92  0.305833  0.638538   1   0     4   \n",
       "11 -0.549781    8  275.8  0.653456  3.07  0.905418 -0.202555   0   0     3   \n",
       "12 -0.368203    8  275.8  0.653456  3.07  0.588476 -0.085573   0   0     3   \n",
       "13 -0.807542    8  275.8  0.653456  3.07  0.636017  0.143764   0   0     3   \n",
       "14 -2.086223    8  472.0  0.941800  2.93  1.908410  0.132440   0   0     3   \n",
       "15 -2.086223    8  460.0  1.048283  3.00  2.045770  0.041312   0   0     3   \n",
       "16 -0.920821    8  440.0  1.199882  3.23  1.983699 -0.190785   0   0     3   \n",
       "17  1.785932    4   78.7 -1.456255  4.08 -1.075234  0.937764   1   1     4   \n",
       "18  1.565359    4   75.7 -1.928963  4.93 -1.873787  0.433090   1   1     4   \n",
       "19  1.942855    4   71.1 -1.486845  4.22 -1.557899  1.156751   1   1     4   \n",
       "20  0.373460    4  120.1 -0.670033  3.70 -0.750921  1.211877   1   0     3   \n",
       "21 -0.741297    8  318.0  0.255121  2.76  0.385024 -0.520372   0   0     3   \n",
       "22 -0.807542    8  304.0  0.255121  3.15  0.300851 -0.261641   0   0     3   \n",
       "23 -1.259109    8  350.0  1.342775  3.73  0.692629 -1.460472   0   0     3   \n",
       "24 -0.013218    8  400.0  0.591461  3.08  0.697326 -0.411132   0   0     3   \n",
       "25  1.193960    4   79.0 -1.456255  4.08 -1.420961  0.638538   1   1     4   \n",
       "26  1.025873    4  120.3 -0.802385  4.43 -1.151492 -0.624811   0   1     5   \n",
       "27  1.565359    4   95.1 -0.350319  3.77 -2.027975 -0.502070   1   1     5   \n",
       "28 -0.676286    8  351.0  1.512805  4.22  0.031109 -2.101151   0   1     5   \n",
       "29  0.074530    6  145.0  0.591461  3.62 -0.399738 -1.399539   0   1     5   \n",
       "30 -0.852413    8  301.0  2.063061  3.54  0.434035 -2.028463   0   1     5   \n",
       "31  0.357501    4  121.0 -0.426203  4.11 -0.388580  0.476752   1   1     4   \n",
       "\n",
       "    ...  Merc 280C  Merc 450SE  Merc 450SL  Merc 450SLC  Pontiac Firebird  \\\n",
       "0   ...          0           0           0            0                 0   \n",
       "1   ...          0           0           0            0                 0   \n",
       "2   ...          0           0           0            0                 0   \n",
       "3   ...          0           0           0            0                 0   \n",
       "4   ...          0           0           0            0                 0   \n",
       "5   ...          0           0           0            0                 0   \n",
       "6   ...          0           0           0            0                 0   \n",
       "7   ...          0           0           0            0                 0   \n",
       "8   ...          0           0           0            0                 0   \n",
       "9   ...          0           0           0            0                 0   \n",
       "10  ...          1           0           0            0                 0   \n",
       "11  ...          0           1           0            0                 0   \n",
       "12  ...          0           0           1            0                 0   \n",
       "13  ...          0           0           0            1                 0   \n",
       "14  ...          0           0           0            0                 0   \n",
       "15  ...          0           0           0            0                 0   \n",
       "16  ...          0           0           0            0                 0   \n",
       "17  ...          0           0           0            0                 0   \n",
       "18  ...          0           0           0            0                 0   \n",
       "19  ...          0           0           0            0                 0   \n",
       "20  ...          0           0           0            0                 0   \n",
       "21  ...          0           0           0            0                 0   \n",
       "22  ...          0           0           0            0                 0   \n",
       "23  ...          0           0           0            0                 0   \n",
       "24  ...          0           0           0            0                 1   \n",
       "25  ...          0           0           0            0                 0   \n",
       "26  ...          0           0           0            0                 0   \n",
       "27  ...          0           0           0            0                 0   \n",
       "28  ...          0           0           0            0                 0   \n",
       "29  ...          0           0           0            0                 0   \n",
       "30  ...          0           0           0            0                 0   \n",
       "31  ...          0           0           0            0                 0   \n",
       "\n",
       "    Porsche 914-2  Toyota Corolla  Toyota Corona  Valiant  Volvo 142E  \n",
       "0               0               0              0        0           0  \n",
       "1               0               0              0        0           0  \n",
       "2               0               0              0        0           0  \n",
       "3               0               0              0        0           0  \n",
       "4               0               0              0        0           0  \n",
       "5               0               0              0        1           0  \n",
       "6               0               0              0        0           0  \n",
       "7               0               0              0        0           0  \n",
       "8               0               0              0        0           0  \n",
       "9               0               0              0        0           0  \n",
       "10              0               0              0        0           0  \n",
       "11              0               0              0        0           0  \n",
       "12              0               0              0        0           0  \n",
       "13              0               0              0        0           0  \n",
       "14              0               0              0        0           0  \n",
       "15              0               0              0        0           0  \n",
       "16              0               0              0        0           0  \n",
       "17              0               0              0        0           0  \n",
       "18              0               0              0        0           0  \n",
       "19              0               1              0        0           0  \n",
       "20              0               0              1        0           0  \n",
       "21              0               0              0        0           0  \n",
       "22              0               0              0        0           0  \n",
       "23              0               0              0        0           0  \n",
       "24              0               0              0        0           0  \n",
       "25              0               0              0        0           0  \n",
       "26              1               0              0        0           0  \n",
       "27              0               0              0        0           0  \n",
       "28              0               0              0        0           0  \n",
       "29              0               0              0        0           0  \n",
       "30              0               0              0        0           0  \n",
       "31              0               0              0        0           1  \n",
       "\n",
       "[32 rows x 42 columns]"
      ]
     },
     "execution_count": 135,
     "metadata": {},
     "output_type": "execute_result"
    }
   ],
   "source": [
    "final"
   ]
  },
  {
   "cell_type": "markdown",
   "id": "58fd5c3f",
   "metadata": {},
   "source": [
    "# 3. Store data in list"
   ]
  },
  {
   "cell_type": "code",
   "execution_count": 136,
   "id": "51b60d48",
   "metadata": {},
   "outputs": [
    {
     "name": "stdout",
     "output_type": "stream",
     "text": [
      "[0.2929351253577551, 0.2929351253577551, 0.5746098318820518, 0.35750127255724595, -0.10321166088799767, -0.2143387279608435, -1.014170056151736, 0.8074256905772834, 0.5746098318820518, -0.013217840429793145, -0.27124998378159987, -0.5497805347822231, -0.3682034429291773, -0.80754167721729, -2.086223021908872, -2.086223021908872, -0.9208211071659261, 1.7859321821150813, 1.5653589251128024, 1.9428553375743811, 0.37345978504453786, -0.7412973556616481, -0.80754167721729, -1.2591093694122153, -0.013217840429793145, 1.1939601781377287, 1.0258730096771351, 1.5653589251128024, -0.6762857762759558, 0.0745298045207287, -0.8524132033453758, 0.35750127255724595]\n",
      "[6, 6, 4, 6, 8, 6, 8, 4, 4, 6, 6, 8, 8, 8, 8, 8, 8, 4, 4, 4, 4, 8, 8, 8, 8, 4, 4, 4, 8, 6, 8, 4]\n",
      "[160.0, 160.0, 108.0, 258.0, 360.0, 225.0, 360.0, 146.7, 140.8, 167.6, 167.6, 275.8, 275.8, 275.8, 472.0, 460.0, 440.0, 78.7, 75.7, 71.1, 120.1, 318.0, 304.0, 350.0, 400.0, 79.0, 120.3, 95.1, 351.0, 145.0, 301.0, 121.0]\n",
      "[-0.4069982196873767, -0.4069982196873767, -0.7574112195799817, -0.4069982196873767, 0.5914611426867292, -0.504653209145498, 1.3427752932915298, -1.5812441398208652, -0.7133052340895865, -0.1707557854491838, -0.1707557854491838, 0.6534559301645825, 0.6534559301645825, 0.6534559301645825, 0.941800104226914, 1.0482833737349977, 1.1998822453770968, -1.4562545020663271, -1.9289629940436823, -1.486844864609322, -0.6700325399545136, 0.25512110995404846, 0.25512110995404846, 1.3427752932915298, 0.5914611426867292, -1.4562545020663271, -0.8023849908567442, -0.3503185533326177, 1.5128046931260561, 0.5914611426867292, 2.063061438348054, -0.4262029003322603]\n",
      "[3.9, 3.9, 3.85, 3.08, 3.15, 2.76, 3.21, 3.69, 3.92, 3.92, 3.92, 3.07, 3.07, 3.07, 2.93, 3.0, 3.23, 4.08, 4.93, 4.22, 3.7, 2.76, 3.15, 3.73, 3.08, 4.08, 4.43, 3.77, 4.22, 3.62, 3.54, 4.11]\n",
      "[-0.5697447297958302, -0.28361648965001346, -0.9259516732409199, 0.0777330769902653, 0.30583289443254214, 0.32572116284960473, 0.4340349426557202, 0.0518738030439501, 0.010274885537164151, 0.30583289443254214, 0.30583289443254214, 0.9054178281155205, 0.5884761355651972, 0.6360172602690534, 1.9084099802973915, 2.045769861869233, 1.9836988409392011, -1.0752339663030668, -1.873786636966715, -1.5578993662716913, -0.7509213258165657, 0.38502362485089253, 0.300851272768759, 0.6926294340421865, 0.697325917750486, -1.4209606601790352, -1.151492395752291, -2.027975135207327, 0.03110906703296682, -0.3997384173173148, 0.4340349426557202, -0.3885799240301686]\n",
      "[-0.774403763817452, -0.4292436944400186, 0.48219444773593517, 0.9222734017067431, -0.4292436944400186, 1.316134584373524, -1.1730475304385872, 1.2068807686380938, 2.5443265646517497, 0.3118646586998877, 0.6385383403065052, -0.20255470268187153, -0.08557323046225518, 0.14376389486210928, 0.1324400810915003, 0.04131236963504837, -0.19078549635506675, 0.9377636703522756, 0.4330899614260483, 1.156751256834018, 1.2118774860494612, -0.5203718655612768, -0.26164057281824266, -1.4604724070032207, -0.4111315062714526, 0.6385383403065052, -0.6248106469130387, -0.5020701139349922, -2.1011513241431, -1.3995386753102377, -2.028462815611455, 0.47675221353281394]\n",
      "[0, 0, 1, 1, 0, 1, 0, 1, 1, 1, 1, 0, 0, 0, 0, 0, 0, 1, 1, 1, 1, 0, 0, 0, 0, 1, 0, 1, 0, 0, 0, 1]\n",
      "[1, 1, 1, 0, 0, 0, 0, 0, 0, 0, 0, 0, 0, 0, 0, 0, 0, 1, 1, 1, 0, 0, 0, 0, 0, 1, 1, 1, 1, 1, 1, 1]\n",
      "[4, 4, 4, 3, 3, 3, 3, 4, 4, 4, 4, 3, 3, 3, 3, 3, 3, 4, 4, 4, 3, 3, 3, 3, 3, 4, 5, 5, 5, 5, 5, 4]\n",
      "[0.8796730039159774, 0.8796730039159774, -1.4709363368619581, -1.4709363368619581, -0.34269361785973795, -1.4709363368619581, 0.8796730039159774, -0.34269361785973795, -0.34269361785973795, 0.8796730039159774, 0.8796730039159774, 0.36042994940033024, 0.36042994940033024, 0.36042994940033024, 0.8796730039159774, 0.8796730039159774, 0.8796730039159774, -1.4709363368619581, -0.34269361785973795, -1.4709363368619581, -1.4709363368619581, -0.34269361785973795, -0.34269361785973795, 0.8796730039159774, -0.34269361785973795, -1.4709363368619581, -0.34269361785973795, -0.34269361785973795, 0.8796730039159774, 1.6414548130311926, 2.2040158362391304, -0.34269361785973795]\n",
      "[0, 0, 0, 0, 0, 0, 0, 0, 0, 0, 0, 0, 0, 0, 1, 0, 0, 0, 0, 0, 0, 0, 0, 0, 0, 0, 0, 0, 0, 0, 0, 0]\n",
      "[0, 0, 0, 0, 0, 0, 0, 0, 0, 0, 0, 0, 0, 0, 0, 0, 0, 0, 0, 0, 0, 0, 0, 1, 0, 0, 0, 0, 0, 0, 0, 0]\n",
      "[0, 0, 0, 0, 0, 0, 0, 0, 0, 0, 0, 0, 0, 0, 0, 0, 1, 0, 0, 0, 0, 0, 0, 0, 0, 0, 0, 0, 0, 0, 0, 0]\n",
      "[0, 0, 1, 0, 0, 0, 0, 0, 0, 0, 0, 0, 0, 0, 0, 0, 0, 0, 0, 0, 0, 0, 0, 0, 0, 0, 0, 0, 0, 0, 0, 0]\n",
      "[0, 0, 0, 0, 0, 0, 0, 0, 0, 0, 0, 0, 0, 0, 0, 0, 0, 0, 0, 0, 0, 1, 0, 0, 0, 0, 0, 0, 0, 0, 0, 0]\n",
      "[0, 0, 0, 0, 0, 0, 1, 0, 0, 0, 0, 0, 0, 0, 0, 0, 0, 0, 0, 0, 0, 0, 0, 0, 0, 0, 0, 0, 0, 0, 0, 0]\n",
      "[0, 0, 0, 0, 0, 0, 0, 0, 0, 0, 0, 0, 0, 0, 0, 0, 0, 0, 0, 0, 0, 0, 0, 0, 0, 0, 0, 0, 0, 1, 0, 0]\n",
      "[0, 0, 0, 0, 0, 0, 0, 0, 0, 0, 0, 0, 0, 0, 0, 0, 0, 1, 0, 0, 0, 0, 0, 0, 0, 0, 0, 0, 0, 0, 0, 0]\n",
      "[0, 0, 0, 0, 0, 0, 0, 0, 0, 0, 0, 0, 0, 0, 0, 0, 0, 0, 0, 0, 0, 0, 0, 0, 0, 1, 0, 0, 0, 0, 0, 0]\n",
      "[0, 0, 0, 0, 0, 0, 0, 0, 0, 0, 0, 0, 0, 0, 0, 0, 0, 0, 0, 0, 0, 0, 0, 0, 0, 0, 0, 0, 1, 0, 0, 0]\n",
      "[0, 0, 0, 0, 0, 0, 0, 0, 0, 0, 0, 0, 0, 0, 0, 0, 0, 0, 1, 0, 0, 0, 0, 0, 0, 0, 0, 0, 0, 0, 0, 0]\n",
      "[0, 0, 0, 1, 0, 0, 0, 0, 0, 0, 0, 0, 0, 0, 0, 0, 0, 0, 0, 0, 0, 0, 0, 0, 0, 0, 0, 0, 0, 0, 0, 0]\n",
      "[0, 0, 0, 0, 1, 0, 0, 0, 0, 0, 0, 0, 0, 0, 0, 0, 0, 0, 0, 0, 0, 0, 0, 0, 0, 0, 0, 0, 0, 0, 0, 0]\n",
      "[0, 0, 0, 0, 0, 0, 0, 0, 0, 0, 0, 0, 0, 0, 0, 1, 0, 0, 0, 0, 0, 0, 0, 0, 0, 0, 0, 0, 0, 0, 0, 0]\n",
      "[0, 0, 0, 0, 0, 0, 0, 0, 0, 0, 0, 0, 0, 0, 0, 0, 0, 0, 0, 0, 0, 0, 0, 0, 0, 0, 0, 1, 0, 0, 0, 0]\n",
      "[0, 0, 0, 0, 0, 0, 0, 0, 0, 0, 0, 0, 0, 0, 0, 0, 0, 0, 0, 0, 0, 0, 0, 0, 0, 0, 0, 0, 0, 0, 1, 0]\n",
      "[1, 0, 0, 0, 0, 0, 0, 0, 0, 0, 0, 0, 0, 0, 0, 0, 0, 0, 0, 0, 0, 0, 0, 0, 0, 0, 0, 0, 0, 0, 0, 0]\n",
      "[0, 1, 0, 0, 0, 0, 0, 0, 0, 0, 0, 0, 0, 0, 0, 0, 0, 0, 0, 0, 0, 0, 0, 0, 0, 0, 0, 0, 0, 0, 0, 0]\n",
      "[0, 0, 0, 0, 0, 0, 0, 0, 1, 0, 0, 0, 0, 0, 0, 0, 0, 0, 0, 0, 0, 0, 0, 0, 0, 0, 0, 0, 0, 0, 0, 0]\n",
      "[0, 0, 0, 0, 0, 0, 0, 1, 0, 0, 0, 0, 0, 0, 0, 0, 0, 0, 0, 0, 0, 0, 0, 0, 0, 0, 0, 0, 0, 0, 0, 0]\n",
      "[0, 0, 0, 0, 0, 0, 0, 0, 0, 1, 0, 0, 0, 0, 0, 0, 0, 0, 0, 0, 0, 0, 0, 0, 0, 0, 0, 0, 0, 0, 0, 0]\n",
      "[0, 0, 0, 0, 0, 0, 0, 0, 0, 0, 1, 0, 0, 0, 0, 0, 0, 0, 0, 0, 0, 0, 0, 0, 0, 0, 0, 0, 0, 0, 0, 0]\n",
      "[0, 0, 0, 0, 0, 0, 0, 0, 0, 0, 0, 1, 0, 0, 0, 0, 0, 0, 0, 0, 0, 0, 0, 0, 0, 0, 0, 0, 0, 0, 0, 0]\n",
      "[0, 0, 0, 0, 0, 0, 0, 0, 0, 0, 0, 0, 1, 0, 0, 0, 0, 0, 0, 0, 0, 0, 0, 0, 0, 0, 0, 0, 0, 0, 0, 0]\n",
      "[0, 0, 0, 0, 0, 0, 0, 0, 0, 0, 0, 0, 0, 1, 0, 0, 0, 0, 0, 0, 0, 0, 0, 0, 0, 0, 0, 0, 0, 0, 0, 0]\n",
      "[0, 0, 0, 0, 0, 0, 0, 0, 0, 0, 0, 0, 0, 0, 0, 0, 0, 0, 0, 0, 0, 0, 0, 0, 1, 0, 0, 0, 0, 0, 0, 0]\n",
      "[0, 0, 0, 0, 0, 0, 0, 0, 0, 0, 0, 0, 0, 0, 0, 0, 0, 0, 0, 0, 0, 0, 0, 0, 0, 0, 1, 0, 0, 0, 0, 0]\n",
      "[0, 0, 0, 0, 0, 0, 0, 0, 0, 0, 0, 0, 0, 0, 0, 0, 0, 0, 0, 1, 0, 0, 0, 0, 0, 0, 0, 0, 0, 0, 0, 0]\n",
      "[0, 0, 0, 0, 0, 0, 0, 0, 0, 0, 0, 0, 0, 0, 0, 0, 0, 0, 0, 0, 1, 0, 0, 0, 0, 0, 0, 0, 0, 0, 0, 0]\n",
      "[0, 0, 0, 0, 0, 1, 0, 0, 0, 0, 0, 0, 0, 0, 0, 0, 0, 0, 0, 0, 0, 0, 0, 0, 0, 0, 0, 0, 0, 0, 0, 0]\n",
      "[0, 0, 0, 0, 0, 0, 0, 0, 0, 0, 0, 0, 0, 0, 0, 0, 0, 0, 0, 0, 0, 0, 0, 0, 0, 0, 0, 0, 0, 0, 0, 1]\n"
     ]
    }
   ],
   "source": [
    "for name in final.columns:\n",
    "    print(final[name].tolist())"
   ]
  },
  {
   "cell_type": "code",
   "execution_count": 138,
   "id": "99d46cbd",
   "metadata": {},
   "outputs": [],
   "source": [
    "store_in_list=[final[name].tolist() for name in final.columns]"
   ]
  },
  {
   "cell_type": "code",
   "execution_count": 139,
   "id": "3125fb14",
   "metadata": {},
   "outputs": [
    {
     "data": {
      "text/plain": [
       "[[0.2929351253577551,\n",
       "  0.2929351253577551,\n",
       "  0.5746098318820518,\n",
       "  0.35750127255724595,\n",
       "  -0.10321166088799767,\n",
       "  -0.2143387279608435,\n",
       "  -1.014170056151736,\n",
       "  0.8074256905772834,\n",
       "  0.5746098318820518,\n",
       "  -0.013217840429793145,\n",
       "  -0.27124998378159987,\n",
       "  -0.5497805347822231,\n",
       "  -0.3682034429291773,\n",
       "  -0.80754167721729,\n",
       "  -2.086223021908872,\n",
       "  -2.086223021908872,\n",
       "  -0.9208211071659261,\n",
       "  1.7859321821150813,\n",
       "  1.5653589251128024,\n",
       "  1.9428553375743811,\n",
       "  0.37345978504453786,\n",
       "  -0.7412973556616481,\n",
       "  -0.80754167721729,\n",
       "  -1.2591093694122153,\n",
       "  -0.013217840429793145,\n",
       "  1.1939601781377287,\n",
       "  1.0258730096771351,\n",
       "  1.5653589251128024,\n",
       "  -0.6762857762759558,\n",
       "  0.0745298045207287,\n",
       "  -0.8524132033453758,\n",
       "  0.35750127255724595],\n",
       " [6,\n",
       "  6,\n",
       "  4,\n",
       "  6,\n",
       "  8,\n",
       "  6,\n",
       "  8,\n",
       "  4,\n",
       "  4,\n",
       "  6,\n",
       "  6,\n",
       "  8,\n",
       "  8,\n",
       "  8,\n",
       "  8,\n",
       "  8,\n",
       "  8,\n",
       "  4,\n",
       "  4,\n",
       "  4,\n",
       "  4,\n",
       "  8,\n",
       "  8,\n",
       "  8,\n",
       "  8,\n",
       "  4,\n",
       "  4,\n",
       "  4,\n",
       "  8,\n",
       "  6,\n",
       "  8,\n",
       "  4],\n",
       " [160.0,\n",
       "  160.0,\n",
       "  108.0,\n",
       "  258.0,\n",
       "  360.0,\n",
       "  225.0,\n",
       "  360.0,\n",
       "  146.7,\n",
       "  140.8,\n",
       "  167.6,\n",
       "  167.6,\n",
       "  275.8,\n",
       "  275.8,\n",
       "  275.8,\n",
       "  472.0,\n",
       "  460.0,\n",
       "  440.0,\n",
       "  78.7,\n",
       "  75.7,\n",
       "  71.1,\n",
       "  120.1,\n",
       "  318.0,\n",
       "  304.0,\n",
       "  350.0,\n",
       "  400.0,\n",
       "  79.0,\n",
       "  120.3,\n",
       "  95.1,\n",
       "  351.0,\n",
       "  145.0,\n",
       "  301.0,\n",
       "  121.0],\n",
       " [-0.4069982196873767,\n",
       "  -0.4069982196873767,\n",
       "  -0.7574112195799817,\n",
       "  -0.4069982196873767,\n",
       "  0.5914611426867292,\n",
       "  -0.504653209145498,\n",
       "  1.3427752932915298,\n",
       "  -1.5812441398208652,\n",
       "  -0.7133052340895865,\n",
       "  -0.1707557854491838,\n",
       "  -0.1707557854491838,\n",
       "  0.6534559301645825,\n",
       "  0.6534559301645825,\n",
       "  0.6534559301645825,\n",
       "  0.941800104226914,\n",
       "  1.0482833737349977,\n",
       "  1.1998822453770968,\n",
       "  -1.4562545020663271,\n",
       "  -1.9289629940436823,\n",
       "  -1.486844864609322,\n",
       "  -0.6700325399545136,\n",
       "  0.25512110995404846,\n",
       "  0.25512110995404846,\n",
       "  1.3427752932915298,\n",
       "  0.5914611426867292,\n",
       "  -1.4562545020663271,\n",
       "  -0.8023849908567442,\n",
       "  -0.3503185533326177,\n",
       "  1.5128046931260561,\n",
       "  0.5914611426867292,\n",
       "  2.063061438348054,\n",
       "  -0.4262029003322603],\n",
       " [3.9,\n",
       "  3.9,\n",
       "  3.85,\n",
       "  3.08,\n",
       "  3.15,\n",
       "  2.76,\n",
       "  3.21,\n",
       "  3.69,\n",
       "  3.92,\n",
       "  3.92,\n",
       "  3.92,\n",
       "  3.07,\n",
       "  3.07,\n",
       "  3.07,\n",
       "  2.93,\n",
       "  3.0,\n",
       "  3.23,\n",
       "  4.08,\n",
       "  4.93,\n",
       "  4.22,\n",
       "  3.7,\n",
       "  2.76,\n",
       "  3.15,\n",
       "  3.73,\n",
       "  3.08,\n",
       "  4.08,\n",
       "  4.43,\n",
       "  3.77,\n",
       "  4.22,\n",
       "  3.62,\n",
       "  3.54,\n",
       "  4.11],\n",
       " [-0.5697447297958302,\n",
       "  -0.28361648965001346,\n",
       "  -0.9259516732409199,\n",
       "  0.0777330769902653,\n",
       "  0.30583289443254214,\n",
       "  0.32572116284960473,\n",
       "  0.4340349426557202,\n",
       "  0.0518738030439501,\n",
       "  0.010274885537164151,\n",
       "  0.30583289443254214,\n",
       "  0.30583289443254214,\n",
       "  0.9054178281155205,\n",
       "  0.5884761355651972,\n",
       "  0.6360172602690534,\n",
       "  1.9084099802973915,\n",
       "  2.045769861869233,\n",
       "  1.9836988409392011,\n",
       "  -1.0752339663030668,\n",
       "  -1.873786636966715,\n",
       "  -1.5578993662716913,\n",
       "  -0.7509213258165657,\n",
       "  0.38502362485089253,\n",
       "  0.300851272768759,\n",
       "  0.6926294340421865,\n",
       "  0.697325917750486,\n",
       "  -1.4209606601790352,\n",
       "  -1.151492395752291,\n",
       "  -2.027975135207327,\n",
       "  0.03110906703296682,\n",
       "  -0.3997384173173148,\n",
       "  0.4340349426557202,\n",
       "  -0.3885799240301686],\n",
       " [-0.774403763817452,\n",
       "  -0.4292436944400186,\n",
       "  0.48219444773593517,\n",
       "  0.9222734017067431,\n",
       "  -0.4292436944400186,\n",
       "  1.316134584373524,\n",
       "  -1.1730475304385872,\n",
       "  1.2068807686380938,\n",
       "  2.5443265646517497,\n",
       "  0.3118646586998877,\n",
       "  0.6385383403065052,\n",
       "  -0.20255470268187153,\n",
       "  -0.08557323046225518,\n",
       "  0.14376389486210928,\n",
       "  0.1324400810915003,\n",
       "  0.04131236963504837,\n",
       "  -0.19078549635506675,\n",
       "  0.9377636703522756,\n",
       "  0.4330899614260483,\n",
       "  1.156751256834018,\n",
       "  1.2118774860494612,\n",
       "  -0.5203718655612768,\n",
       "  -0.26164057281824266,\n",
       "  -1.4604724070032207,\n",
       "  -0.4111315062714526,\n",
       "  0.6385383403065052,\n",
       "  -0.6248106469130387,\n",
       "  -0.5020701139349922,\n",
       "  -2.1011513241431,\n",
       "  -1.3995386753102377,\n",
       "  -2.028462815611455,\n",
       "  0.47675221353281394],\n",
       " [0,\n",
       "  0,\n",
       "  1,\n",
       "  1,\n",
       "  0,\n",
       "  1,\n",
       "  0,\n",
       "  1,\n",
       "  1,\n",
       "  1,\n",
       "  1,\n",
       "  0,\n",
       "  0,\n",
       "  0,\n",
       "  0,\n",
       "  0,\n",
       "  0,\n",
       "  1,\n",
       "  1,\n",
       "  1,\n",
       "  1,\n",
       "  0,\n",
       "  0,\n",
       "  0,\n",
       "  0,\n",
       "  1,\n",
       "  0,\n",
       "  1,\n",
       "  0,\n",
       "  0,\n",
       "  0,\n",
       "  1],\n",
       " [1,\n",
       "  1,\n",
       "  1,\n",
       "  0,\n",
       "  0,\n",
       "  0,\n",
       "  0,\n",
       "  0,\n",
       "  0,\n",
       "  0,\n",
       "  0,\n",
       "  0,\n",
       "  0,\n",
       "  0,\n",
       "  0,\n",
       "  0,\n",
       "  0,\n",
       "  1,\n",
       "  1,\n",
       "  1,\n",
       "  0,\n",
       "  0,\n",
       "  0,\n",
       "  0,\n",
       "  0,\n",
       "  1,\n",
       "  1,\n",
       "  1,\n",
       "  1,\n",
       "  1,\n",
       "  1,\n",
       "  1],\n",
       " [4,\n",
       "  4,\n",
       "  4,\n",
       "  3,\n",
       "  3,\n",
       "  3,\n",
       "  3,\n",
       "  4,\n",
       "  4,\n",
       "  4,\n",
       "  4,\n",
       "  3,\n",
       "  3,\n",
       "  3,\n",
       "  3,\n",
       "  3,\n",
       "  3,\n",
       "  4,\n",
       "  4,\n",
       "  4,\n",
       "  3,\n",
       "  3,\n",
       "  3,\n",
       "  3,\n",
       "  3,\n",
       "  4,\n",
       "  5,\n",
       "  5,\n",
       "  5,\n",
       "  5,\n",
       "  5,\n",
       "  4],\n",
       " [0.8796730039159774,\n",
       "  0.8796730039159774,\n",
       "  -1.4709363368619581,\n",
       "  -1.4709363368619581,\n",
       "  -0.34269361785973795,\n",
       "  -1.4709363368619581,\n",
       "  0.8796730039159774,\n",
       "  -0.34269361785973795,\n",
       "  -0.34269361785973795,\n",
       "  0.8796730039159774,\n",
       "  0.8796730039159774,\n",
       "  0.36042994940033024,\n",
       "  0.36042994940033024,\n",
       "  0.36042994940033024,\n",
       "  0.8796730039159774,\n",
       "  0.8796730039159774,\n",
       "  0.8796730039159774,\n",
       "  -1.4709363368619581,\n",
       "  -0.34269361785973795,\n",
       "  -1.4709363368619581,\n",
       "  -1.4709363368619581,\n",
       "  -0.34269361785973795,\n",
       "  -0.34269361785973795,\n",
       "  0.8796730039159774,\n",
       "  -0.34269361785973795,\n",
       "  -1.4709363368619581,\n",
       "  -0.34269361785973795,\n",
       "  -0.34269361785973795,\n",
       "  0.8796730039159774,\n",
       "  1.6414548130311926,\n",
       "  2.2040158362391304,\n",
       "  -0.34269361785973795],\n",
       " [0,\n",
       "  0,\n",
       "  0,\n",
       "  0,\n",
       "  0,\n",
       "  0,\n",
       "  0,\n",
       "  0,\n",
       "  0,\n",
       "  0,\n",
       "  0,\n",
       "  0,\n",
       "  0,\n",
       "  0,\n",
       "  1,\n",
       "  0,\n",
       "  0,\n",
       "  0,\n",
       "  0,\n",
       "  0,\n",
       "  0,\n",
       "  0,\n",
       "  0,\n",
       "  0,\n",
       "  0,\n",
       "  0,\n",
       "  0,\n",
       "  0,\n",
       "  0,\n",
       "  0,\n",
       "  0,\n",
       "  0],\n",
       " [0,\n",
       "  0,\n",
       "  0,\n",
       "  0,\n",
       "  0,\n",
       "  0,\n",
       "  0,\n",
       "  0,\n",
       "  0,\n",
       "  0,\n",
       "  0,\n",
       "  0,\n",
       "  0,\n",
       "  0,\n",
       "  0,\n",
       "  0,\n",
       "  0,\n",
       "  0,\n",
       "  0,\n",
       "  0,\n",
       "  0,\n",
       "  0,\n",
       "  0,\n",
       "  1,\n",
       "  0,\n",
       "  0,\n",
       "  0,\n",
       "  0,\n",
       "  0,\n",
       "  0,\n",
       "  0,\n",
       "  0],\n",
       " [0,\n",
       "  0,\n",
       "  0,\n",
       "  0,\n",
       "  0,\n",
       "  0,\n",
       "  0,\n",
       "  0,\n",
       "  0,\n",
       "  0,\n",
       "  0,\n",
       "  0,\n",
       "  0,\n",
       "  0,\n",
       "  0,\n",
       "  0,\n",
       "  1,\n",
       "  0,\n",
       "  0,\n",
       "  0,\n",
       "  0,\n",
       "  0,\n",
       "  0,\n",
       "  0,\n",
       "  0,\n",
       "  0,\n",
       "  0,\n",
       "  0,\n",
       "  0,\n",
       "  0,\n",
       "  0,\n",
       "  0],\n",
       " [0,\n",
       "  0,\n",
       "  1,\n",
       "  0,\n",
       "  0,\n",
       "  0,\n",
       "  0,\n",
       "  0,\n",
       "  0,\n",
       "  0,\n",
       "  0,\n",
       "  0,\n",
       "  0,\n",
       "  0,\n",
       "  0,\n",
       "  0,\n",
       "  0,\n",
       "  0,\n",
       "  0,\n",
       "  0,\n",
       "  0,\n",
       "  0,\n",
       "  0,\n",
       "  0,\n",
       "  0,\n",
       "  0,\n",
       "  0,\n",
       "  0,\n",
       "  0,\n",
       "  0,\n",
       "  0,\n",
       "  0],\n",
       " [0,\n",
       "  0,\n",
       "  0,\n",
       "  0,\n",
       "  0,\n",
       "  0,\n",
       "  0,\n",
       "  0,\n",
       "  0,\n",
       "  0,\n",
       "  0,\n",
       "  0,\n",
       "  0,\n",
       "  0,\n",
       "  0,\n",
       "  0,\n",
       "  0,\n",
       "  0,\n",
       "  0,\n",
       "  0,\n",
       "  0,\n",
       "  1,\n",
       "  0,\n",
       "  0,\n",
       "  0,\n",
       "  0,\n",
       "  0,\n",
       "  0,\n",
       "  0,\n",
       "  0,\n",
       "  0,\n",
       "  0],\n",
       " [0,\n",
       "  0,\n",
       "  0,\n",
       "  0,\n",
       "  0,\n",
       "  0,\n",
       "  1,\n",
       "  0,\n",
       "  0,\n",
       "  0,\n",
       "  0,\n",
       "  0,\n",
       "  0,\n",
       "  0,\n",
       "  0,\n",
       "  0,\n",
       "  0,\n",
       "  0,\n",
       "  0,\n",
       "  0,\n",
       "  0,\n",
       "  0,\n",
       "  0,\n",
       "  0,\n",
       "  0,\n",
       "  0,\n",
       "  0,\n",
       "  0,\n",
       "  0,\n",
       "  0,\n",
       "  0,\n",
       "  0],\n",
       " [0,\n",
       "  0,\n",
       "  0,\n",
       "  0,\n",
       "  0,\n",
       "  0,\n",
       "  0,\n",
       "  0,\n",
       "  0,\n",
       "  0,\n",
       "  0,\n",
       "  0,\n",
       "  0,\n",
       "  0,\n",
       "  0,\n",
       "  0,\n",
       "  0,\n",
       "  0,\n",
       "  0,\n",
       "  0,\n",
       "  0,\n",
       "  0,\n",
       "  0,\n",
       "  0,\n",
       "  0,\n",
       "  0,\n",
       "  0,\n",
       "  0,\n",
       "  0,\n",
       "  1,\n",
       "  0,\n",
       "  0],\n",
       " [0,\n",
       "  0,\n",
       "  0,\n",
       "  0,\n",
       "  0,\n",
       "  0,\n",
       "  0,\n",
       "  0,\n",
       "  0,\n",
       "  0,\n",
       "  0,\n",
       "  0,\n",
       "  0,\n",
       "  0,\n",
       "  0,\n",
       "  0,\n",
       "  0,\n",
       "  1,\n",
       "  0,\n",
       "  0,\n",
       "  0,\n",
       "  0,\n",
       "  0,\n",
       "  0,\n",
       "  0,\n",
       "  0,\n",
       "  0,\n",
       "  0,\n",
       "  0,\n",
       "  0,\n",
       "  0,\n",
       "  0],\n",
       " [0,\n",
       "  0,\n",
       "  0,\n",
       "  0,\n",
       "  0,\n",
       "  0,\n",
       "  0,\n",
       "  0,\n",
       "  0,\n",
       "  0,\n",
       "  0,\n",
       "  0,\n",
       "  0,\n",
       "  0,\n",
       "  0,\n",
       "  0,\n",
       "  0,\n",
       "  0,\n",
       "  0,\n",
       "  0,\n",
       "  0,\n",
       "  0,\n",
       "  0,\n",
       "  0,\n",
       "  0,\n",
       "  1,\n",
       "  0,\n",
       "  0,\n",
       "  0,\n",
       "  0,\n",
       "  0,\n",
       "  0],\n",
       " [0,\n",
       "  0,\n",
       "  0,\n",
       "  0,\n",
       "  0,\n",
       "  0,\n",
       "  0,\n",
       "  0,\n",
       "  0,\n",
       "  0,\n",
       "  0,\n",
       "  0,\n",
       "  0,\n",
       "  0,\n",
       "  0,\n",
       "  0,\n",
       "  0,\n",
       "  0,\n",
       "  0,\n",
       "  0,\n",
       "  0,\n",
       "  0,\n",
       "  0,\n",
       "  0,\n",
       "  0,\n",
       "  0,\n",
       "  0,\n",
       "  0,\n",
       "  1,\n",
       "  0,\n",
       "  0,\n",
       "  0],\n",
       " [0,\n",
       "  0,\n",
       "  0,\n",
       "  0,\n",
       "  0,\n",
       "  0,\n",
       "  0,\n",
       "  0,\n",
       "  0,\n",
       "  0,\n",
       "  0,\n",
       "  0,\n",
       "  0,\n",
       "  0,\n",
       "  0,\n",
       "  0,\n",
       "  0,\n",
       "  0,\n",
       "  1,\n",
       "  0,\n",
       "  0,\n",
       "  0,\n",
       "  0,\n",
       "  0,\n",
       "  0,\n",
       "  0,\n",
       "  0,\n",
       "  0,\n",
       "  0,\n",
       "  0,\n",
       "  0,\n",
       "  0],\n",
       " [0,\n",
       "  0,\n",
       "  0,\n",
       "  1,\n",
       "  0,\n",
       "  0,\n",
       "  0,\n",
       "  0,\n",
       "  0,\n",
       "  0,\n",
       "  0,\n",
       "  0,\n",
       "  0,\n",
       "  0,\n",
       "  0,\n",
       "  0,\n",
       "  0,\n",
       "  0,\n",
       "  0,\n",
       "  0,\n",
       "  0,\n",
       "  0,\n",
       "  0,\n",
       "  0,\n",
       "  0,\n",
       "  0,\n",
       "  0,\n",
       "  0,\n",
       "  0,\n",
       "  0,\n",
       "  0,\n",
       "  0],\n",
       " [0,\n",
       "  0,\n",
       "  0,\n",
       "  0,\n",
       "  1,\n",
       "  0,\n",
       "  0,\n",
       "  0,\n",
       "  0,\n",
       "  0,\n",
       "  0,\n",
       "  0,\n",
       "  0,\n",
       "  0,\n",
       "  0,\n",
       "  0,\n",
       "  0,\n",
       "  0,\n",
       "  0,\n",
       "  0,\n",
       "  0,\n",
       "  0,\n",
       "  0,\n",
       "  0,\n",
       "  0,\n",
       "  0,\n",
       "  0,\n",
       "  0,\n",
       "  0,\n",
       "  0,\n",
       "  0,\n",
       "  0],\n",
       " [0,\n",
       "  0,\n",
       "  0,\n",
       "  0,\n",
       "  0,\n",
       "  0,\n",
       "  0,\n",
       "  0,\n",
       "  0,\n",
       "  0,\n",
       "  0,\n",
       "  0,\n",
       "  0,\n",
       "  0,\n",
       "  0,\n",
       "  1,\n",
       "  0,\n",
       "  0,\n",
       "  0,\n",
       "  0,\n",
       "  0,\n",
       "  0,\n",
       "  0,\n",
       "  0,\n",
       "  0,\n",
       "  0,\n",
       "  0,\n",
       "  0,\n",
       "  0,\n",
       "  0,\n",
       "  0,\n",
       "  0],\n",
       " [0,\n",
       "  0,\n",
       "  0,\n",
       "  0,\n",
       "  0,\n",
       "  0,\n",
       "  0,\n",
       "  0,\n",
       "  0,\n",
       "  0,\n",
       "  0,\n",
       "  0,\n",
       "  0,\n",
       "  0,\n",
       "  0,\n",
       "  0,\n",
       "  0,\n",
       "  0,\n",
       "  0,\n",
       "  0,\n",
       "  0,\n",
       "  0,\n",
       "  0,\n",
       "  0,\n",
       "  0,\n",
       "  0,\n",
       "  0,\n",
       "  1,\n",
       "  0,\n",
       "  0,\n",
       "  0,\n",
       "  0],\n",
       " [0,\n",
       "  0,\n",
       "  0,\n",
       "  0,\n",
       "  0,\n",
       "  0,\n",
       "  0,\n",
       "  0,\n",
       "  0,\n",
       "  0,\n",
       "  0,\n",
       "  0,\n",
       "  0,\n",
       "  0,\n",
       "  0,\n",
       "  0,\n",
       "  0,\n",
       "  0,\n",
       "  0,\n",
       "  0,\n",
       "  0,\n",
       "  0,\n",
       "  0,\n",
       "  0,\n",
       "  0,\n",
       "  0,\n",
       "  0,\n",
       "  0,\n",
       "  0,\n",
       "  0,\n",
       "  1,\n",
       "  0],\n",
       " [1,\n",
       "  0,\n",
       "  0,\n",
       "  0,\n",
       "  0,\n",
       "  0,\n",
       "  0,\n",
       "  0,\n",
       "  0,\n",
       "  0,\n",
       "  0,\n",
       "  0,\n",
       "  0,\n",
       "  0,\n",
       "  0,\n",
       "  0,\n",
       "  0,\n",
       "  0,\n",
       "  0,\n",
       "  0,\n",
       "  0,\n",
       "  0,\n",
       "  0,\n",
       "  0,\n",
       "  0,\n",
       "  0,\n",
       "  0,\n",
       "  0,\n",
       "  0,\n",
       "  0,\n",
       "  0,\n",
       "  0],\n",
       " [0,\n",
       "  1,\n",
       "  0,\n",
       "  0,\n",
       "  0,\n",
       "  0,\n",
       "  0,\n",
       "  0,\n",
       "  0,\n",
       "  0,\n",
       "  0,\n",
       "  0,\n",
       "  0,\n",
       "  0,\n",
       "  0,\n",
       "  0,\n",
       "  0,\n",
       "  0,\n",
       "  0,\n",
       "  0,\n",
       "  0,\n",
       "  0,\n",
       "  0,\n",
       "  0,\n",
       "  0,\n",
       "  0,\n",
       "  0,\n",
       "  0,\n",
       "  0,\n",
       "  0,\n",
       "  0,\n",
       "  0],\n",
       " [0,\n",
       "  0,\n",
       "  0,\n",
       "  0,\n",
       "  0,\n",
       "  0,\n",
       "  0,\n",
       "  0,\n",
       "  1,\n",
       "  0,\n",
       "  0,\n",
       "  0,\n",
       "  0,\n",
       "  0,\n",
       "  0,\n",
       "  0,\n",
       "  0,\n",
       "  0,\n",
       "  0,\n",
       "  0,\n",
       "  0,\n",
       "  0,\n",
       "  0,\n",
       "  0,\n",
       "  0,\n",
       "  0,\n",
       "  0,\n",
       "  0,\n",
       "  0,\n",
       "  0,\n",
       "  0,\n",
       "  0],\n",
       " [0,\n",
       "  0,\n",
       "  0,\n",
       "  0,\n",
       "  0,\n",
       "  0,\n",
       "  0,\n",
       "  1,\n",
       "  0,\n",
       "  0,\n",
       "  0,\n",
       "  0,\n",
       "  0,\n",
       "  0,\n",
       "  0,\n",
       "  0,\n",
       "  0,\n",
       "  0,\n",
       "  0,\n",
       "  0,\n",
       "  0,\n",
       "  0,\n",
       "  0,\n",
       "  0,\n",
       "  0,\n",
       "  0,\n",
       "  0,\n",
       "  0,\n",
       "  0,\n",
       "  0,\n",
       "  0,\n",
       "  0],\n",
       " [0,\n",
       "  0,\n",
       "  0,\n",
       "  0,\n",
       "  0,\n",
       "  0,\n",
       "  0,\n",
       "  0,\n",
       "  0,\n",
       "  1,\n",
       "  0,\n",
       "  0,\n",
       "  0,\n",
       "  0,\n",
       "  0,\n",
       "  0,\n",
       "  0,\n",
       "  0,\n",
       "  0,\n",
       "  0,\n",
       "  0,\n",
       "  0,\n",
       "  0,\n",
       "  0,\n",
       "  0,\n",
       "  0,\n",
       "  0,\n",
       "  0,\n",
       "  0,\n",
       "  0,\n",
       "  0,\n",
       "  0],\n",
       " [0,\n",
       "  0,\n",
       "  0,\n",
       "  0,\n",
       "  0,\n",
       "  0,\n",
       "  0,\n",
       "  0,\n",
       "  0,\n",
       "  0,\n",
       "  1,\n",
       "  0,\n",
       "  0,\n",
       "  0,\n",
       "  0,\n",
       "  0,\n",
       "  0,\n",
       "  0,\n",
       "  0,\n",
       "  0,\n",
       "  0,\n",
       "  0,\n",
       "  0,\n",
       "  0,\n",
       "  0,\n",
       "  0,\n",
       "  0,\n",
       "  0,\n",
       "  0,\n",
       "  0,\n",
       "  0,\n",
       "  0],\n",
       " [0,\n",
       "  0,\n",
       "  0,\n",
       "  0,\n",
       "  0,\n",
       "  0,\n",
       "  0,\n",
       "  0,\n",
       "  0,\n",
       "  0,\n",
       "  0,\n",
       "  1,\n",
       "  0,\n",
       "  0,\n",
       "  0,\n",
       "  0,\n",
       "  0,\n",
       "  0,\n",
       "  0,\n",
       "  0,\n",
       "  0,\n",
       "  0,\n",
       "  0,\n",
       "  0,\n",
       "  0,\n",
       "  0,\n",
       "  0,\n",
       "  0,\n",
       "  0,\n",
       "  0,\n",
       "  0,\n",
       "  0],\n",
       " [0,\n",
       "  0,\n",
       "  0,\n",
       "  0,\n",
       "  0,\n",
       "  0,\n",
       "  0,\n",
       "  0,\n",
       "  0,\n",
       "  0,\n",
       "  0,\n",
       "  0,\n",
       "  1,\n",
       "  0,\n",
       "  0,\n",
       "  0,\n",
       "  0,\n",
       "  0,\n",
       "  0,\n",
       "  0,\n",
       "  0,\n",
       "  0,\n",
       "  0,\n",
       "  0,\n",
       "  0,\n",
       "  0,\n",
       "  0,\n",
       "  0,\n",
       "  0,\n",
       "  0,\n",
       "  0,\n",
       "  0],\n",
       " [0,\n",
       "  0,\n",
       "  0,\n",
       "  0,\n",
       "  0,\n",
       "  0,\n",
       "  0,\n",
       "  0,\n",
       "  0,\n",
       "  0,\n",
       "  0,\n",
       "  0,\n",
       "  0,\n",
       "  1,\n",
       "  0,\n",
       "  0,\n",
       "  0,\n",
       "  0,\n",
       "  0,\n",
       "  0,\n",
       "  0,\n",
       "  0,\n",
       "  0,\n",
       "  0,\n",
       "  0,\n",
       "  0,\n",
       "  0,\n",
       "  0,\n",
       "  0,\n",
       "  0,\n",
       "  0,\n",
       "  0],\n",
       " [0,\n",
       "  0,\n",
       "  0,\n",
       "  0,\n",
       "  0,\n",
       "  0,\n",
       "  0,\n",
       "  0,\n",
       "  0,\n",
       "  0,\n",
       "  0,\n",
       "  0,\n",
       "  0,\n",
       "  0,\n",
       "  0,\n",
       "  0,\n",
       "  0,\n",
       "  0,\n",
       "  0,\n",
       "  0,\n",
       "  0,\n",
       "  0,\n",
       "  0,\n",
       "  0,\n",
       "  1,\n",
       "  0,\n",
       "  0,\n",
       "  0,\n",
       "  0,\n",
       "  0,\n",
       "  0,\n",
       "  0],\n",
       " [0,\n",
       "  0,\n",
       "  0,\n",
       "  0,\n",
       "  0,\n",
       "  0,\n",
       "  0,\n",
       "  0,\n",
       "  0,\n",
       "  0,\n",
       "  0,\n",
       "  0,\n",
       "  0,\n",
       "  0,\n",
       "  0,\n",
       "  0,\n",
       "  0,\n",
       "  0,\n",
       "  0,\n",
       "  0,\n",
       "  0,\n",
       "  0,\n",
       "  0,\n",
       "  0,\n",
       "  0,\n",
       "  0,\n",
       "  1,\n",
       "  0,\n",
       "  0,\n",
       "  0,\n",
       "  0,\n",
       "  0],\n",
       " [0,\n",
       "  0,\n",
       "  0,\n",
       "  0,\n",
       "  0,\n",
       "  0,\n",
       "  0,\n",
       "  0,\n",
       "  0,\n",
       "  0,\n",
       "  0,\n",
       "  0,\n",
       "  0,\n",
       "  0,\n",
       "  0,\n",
       "  0,\n",
       "  0,\n",
       "  0,\n",
       "  0,\n",
       "  1,\n",
       "  0,\n",
       "  0,\n",
       "  0,\n",
       "  0,\n",
       "  0,\n",
       "  0,\n",
       "  0,\n",
       "  0,\n",
       "  0,\n",
       "  0,\n",
       "  0,\n",
       "  0],\n",
       " [0,\n",
       "  0,\n",
       "  0,\n",
       "  0,\n",
       "  0,\n",
       "  0,\n",
       "  0,\n",
       "  0,\n",
       "  0,\n",
       "  0,\n",
       "  0,\n",
       "  0,\n",
       "  0,\n",
       "  0,\n",
       "  0,\n",
       "  0,\n",
       "  0,\n",
       "  0,\n",
       "  0,\n",
       "  0,\n",
       "  1,\n",
       "  0,\n",
       "  0,\n",
       "  0,\n",
       "  0,\n",
       "  0,\n",
       "  0,\n",
       "  0,\n",
       "  0,\n",
       "  0,\n",
       "  0,\n",
       "  0],\n",
       " [0,\n",
       "  0,\n",
       "  0,\n",
       "  0,\n",
       "  0,\n",
       "  1,\n",
       "  0,\n",
       "  0,\n",
       "  0,\n",
       "  0,\n",
       "  0,\n",
       "  0,\n",
       "  0,\n",
       "  0,\n",
       "  0,\n",
       "  0,\n",
       "  0,\n",
       "  0,\n",
       "  0,\n",
       "  0,\n",
       "  0,\n",
       "  0,\n",
       "  0,\n",
       "  0,\n",
       "  0,\n",
       "  0,\n",
       "  0,\n",
       "  0,\n",
       "  0,\n",
       "  0,\n",
       "  0,\n",
       "  0],\n",
       " [0,\n",
       "  0,\n",
       "  0,\n",
       "  0,\n",
       "  0,\n",
       "  0,\n",
       "  0,\n",
       "  0,\n",
       "  0,\n",
       "  0,\n",
       "  0,\n",
       "  0,\n",
       "  0,\n",
       "  0,\n",
       "  0,\n",
       "  0,\n",
       "  0,\n",
       "  0,\n",
       "  0,\n",
       "  0,\n",
       "  0,\n",
       "  0,\n",
       "  0,\n",
       "  0,\n",
       "  0,\n",
       "  0,\n",
       "  0,\n",
       "  0,\n",
       "  0,\n",
       "  0,\n",
       "  0,\n",
       "  1]]"
      ]
     },
     "execution_count": 139,
     "metadata": {},
     "output_type": "execute_result"
    }
   ],
   "source": [
    "store_in_list"
   ]
  },
  {
   "cell_type": "code",
   "execution_count": null,
   "id": "eef8e536",
   "metadata": {},
   "outputs": [],
   "source": []
  }
 ],
 "metadata": {
  "kernelspec": {
   "display_name": "Python 3 (ipykernel)",
   "language": "python",
   "name": "python3"
  },
  "language_info": {
   "codemirror_mode": {
    "name": "ipython",
    "version": 3
   },
   "file_extension": ".py",
   "mimetype": "text/x-python",
   "name": "python",
   "nbconvert_exporter": "python",
   "pygments_lexer": "ipython3",
   "version": "3.9.12"
  }
 },
 "nbformat": 4,
 "nbformat_minor": 5
}
